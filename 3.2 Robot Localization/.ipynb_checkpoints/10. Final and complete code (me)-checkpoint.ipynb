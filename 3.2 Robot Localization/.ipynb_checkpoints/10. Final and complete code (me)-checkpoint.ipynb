{
 "cells": [
  {
   "cell_type": "markdown",
   "metadata": {},
   "source": [
    "# The Robot World\n",
    "\n",
    "A robot, much like you, perceives the world through its \"senses.\" For example, self-driving cars use video, radar, and Lidar, to observe the world around them. As cars gather data, they build up a 3D world of observations that tells the car where it is, where other objects (like trees, pedestrians, and other vehicles) are, and where it should be going! \n",
    "\n",
    "In this section, we'll be working with first a 1D then a 2D representation of the world for simplicity, and because two dimensions are often all you'll need to solve a certain problem. \n",
    "* You'll be given a set of quizzes to solve to build up your understanding of robot localization. \n",
    "* Try your best to solve these quizzes and consult the solution if you get stuck or want to confirm your answer.\n",
    "\n",
    "<img src=\"files/images/lidar.png\" width=\"50%\" height=\"50%\">\n",
    "\n",
    "\n",
    "These grid representations of the environment are known as **discrete** representations. Discrete just means a limited number of places a robot can be (ex. in one grid cell). That's because robots, and autonomous vehicles like self-driving cars, use maps to figure out where they are, and maps lend themselves to being divided up into grids and sections.\n",
    "\n",
    "You'll see **continuous** probability distributions when locating objects that are moving around the robot. Continuous means that these objects can be anywhere around the robot and their movement is smooth.\n",
    "\n",
    "So, let's start with the 1D case."
   ]
  },
  {
   "cell_type": "code",
   "execution_count": 1,
   "metadata": {},
   "outputs": [],
   "source": [
    "# importing resources\n",
    "import matplotlib.pyplot as plt\n",
    "import numpy as np"
   ]
  },
  {
   "cell_type": "markdown",
   "metadata": {},
   "source": [
    "<hr>"
   ]
  },
  {
   "cell_type": "markdown",
   "metadata": {},
   "source": [
    "There's also a helper function for visualizing this distribution. The below function, `display_map` will output a bar chart showing the probability that a robot is in each grid space. The y-axis has a range of 0 to 1 for the range of probabilities. For a uniform distribution, this will look like a flat line. You can choose the width of each bar to be <= 1 should you want to space these out. "
   ]
  },
  {
   "cell_type": "code",
   "execution_count": 2,
   "metadata": {},
   "outputs": [],
   "source": [
    "def display_map(grid, bar_width=1):\n",
    "    if(len(grid) > 0):\n",
    "        x_labels = range(len(grid))\n",
    "        plt.bar(x_labels, height=grid, width=bar_width, color='b')\n",
    "        plt.xlabel('Grid Cell')\n",
    "        plt.ylabel('Probability')\n",
    "        plt.ylim(0, 1) # range of 0-1 for probability values \n",
    "        plt.title('Probability of the robot being at each cell in the grid')\n",
    "        plt.xticks(np.arange(min(x_labels), max(x_labels)+1, 1))\n",
    "        plt.show()\n",
    "    else:\n",
    "        print('Grid is empty')"
   ]
  },
  {
   "cell_type": "markdown",
   "metadata": {},
   "source": [
    "<hr>"
   ]
  },
  {
   "cell_type": "markdown",
   "metadata": {},
   "source": [
    "### Robot World 1-D\n",
    "\n",
    "First, imagine you have a robot living in a 1-D world. You can think of a 1D world as a one-lane road. \n",
    "\n",
    "<img src=\"images/road_1.png\" width=\"50%\" height=\"50%\">\n",
    "\n",
    "We can treat this road as an array, and break it up into grid cells for a robot to understand. In this case, the road is a 1D grid with 5 different spaces. The robot can only move forwards or backwards. If the robot falls off the grid, it will loop back around to the other side (this is known as a cyclic world).\n",
    "\n",
    "<img src=\"images/numbered_grid.png\" width=\"50%\" height=\"50%\">\n",
    "\n",
    "### Uniform Distribution\n",
    "\n",
    "The robot has a map so that it knows there are only 5 spaces in this 1D world. However, it hasn't sensed anything or moved. For a length of 5 cells (a list of 5 values), what is the probability distribution, `p`, that the robot is in any one of these locations?\n",
    "\n",
    "Since the robot does not know where it is at first, the probability of being in any space is the same! This is a probability distribution and so the sum of all these probabilities should be equal to 1, so `1/5 spaces = 0.2`. A distribution in which all the probabilities are the same (and we have maximum uncertainty) is called a **uniform distribution**.\n"
   ]
  },
  {
   "cell_type": "code",
   "execution_count": 3,
   "metadata": {},
   "outputs": [],
   "source": [
    "# uniform distribution for 5 grid cells\n",
    "p = [0.2, 0.2, 0.2, 0.2, 0.2]"
   ]
  },
  {
   "cell_type": "code",
   "execution_count": 4,
   "metadata": {},
   "outputs": [
    {
     "name": "stdout",
     "output_type": "stream",
     "text": [
      "[0.2, 0.2, 0.2, 0.2, 0.2]\n"
     ]
    },
    {
     "data": {
      "image/png": "[encoded data removed]",
      "text/plain": [
       "<Figure size 432x288 with 1 Axes>"
      ]
     },
     "metadata": {},
     "output_type": "display_data"
    }
   ],
   "source": [
    "# **OPTIONAL**\n",
    "# Making a uniform distribution from given number of spaces in the robot's world\n",
    "def initialize_robot(grid_length):\n",
    "    \"\"\"\n",
    "    Takes in a grid length and returns \n",
    "    a uniform distribution of location probabilities\n",
    "    \"\"\"\n",
    "    # Initializing an empty list\n",
    "    p = []\n",
    "    \n",
    "    # create a list that has the value of 1/grid_length for each cell\n",
    "    for i in range(grid_length):\n",
    "        p.append(1.0/grid_length)\n",
    "        \n",
    "    return p\n",
    "\n",
    "# Visializing\n",
    "p = initialize_robot(5)\n",
    "print(p)\n",
    "display_map(p)"
   ]
  },
  {
   "cell_type": "markdown",
   "metadata": {},
   "source": [
    "<hr>"
   ]
  },
  {
   "cell_type": "markdown",
   "metadata": {},
   "source": [
    "<hr>"
   ]
  },
  {
   "cell_type": "code",
   "execution_count": 5,
   "metadata": {},
   "outputs": [],
   "source": [
    "# the color of each grid cell in the 1D world\n",
    "world=['green', 'red', 'red', 'green', 'green']"
   ]
  },
  {
   "cell_type": "markdown",
   "metadata": {},
   "source": [
    "### Z - Measurements"
   ]
  },
  {
   "cell_type": "markdown",
   "metadata": {},
   "source": [
    "(See the image below) If we use `Z= 'red'`, we'll get `q = [0.04, 0.12, 0.12, 0.04, 0.04]` \n",
    "\n",
    "This complete function should also output the correct `q` for `Z= 'green'`.\n",
    "\n",
    "Note that `pHit` refers to the probability that the robot correctly senses the color of the square it is on, so if a robot senses red *and* is on a red square, we'll multiply the current location probability (0.2) with pHit. Same goes for if a robot senses green *and* is on a green square."
   ]
  },
  {
   "cell_type": "markdown",
   "metadata": {},
   "source": [
    "**Note:** (me) Below you can use `Z= 'red'` or `Z= 'green'` or even a list of combination of these two. in first case, it gives the highest probability of a index that we are in that. in case of more than one, we get a probability distribution that tells us what is next. For example, from given `world` and the measurement of `Z= ['red', 'green']` we can figure out that the next highest probability is green. Or after `Z= ['green', 'red']` the highest probability is red."
   ]
  },
  {
   "cell_type": "code",
   "execution_count": 6,
   "metadata": {},
   "outputs": [],
   "source": [
    "# Z (measurements), the sensor reading ('red' or 'green')\n",
    "measurements = ['red', 'green']\n",
    "#measurements = ['red', 'red']\n",
    "#measurements = ['green', 'red']\n",
    "#measurements = ['green', 'green']"
   ]
  },
  {
   "cell_type": "markdown",
   "metadata": {},
   "source": [
    "<hr>"
   ]
  },
  {
   "cell_type": "markdown",
   "metadata": {},
   "source": [
    "### Robot Sensors\n",
    "\n",
    "A robot senses the world through cameras and other sensors, but these sensors are not perfectly accurate. In the video, you saw an example of a robot in a 1D world made of colored grid cells; all cells were either green or red. The robot then sensed that it was in a red grid cell. \n",
    "\n",
    "The probability that this reading was accurate, which we'll call the prbability that the sensor has hit its target, `pHit`, was `0.6` and the probability that this reading was inaccurate (the sensor has missed its target) and the robot was *actually* in a green cell was `pMiss` equal to `0.2`.\n",
    "\n",
    "In this notebook, let's go through how this works step by step."
   ]
  },
  {
   "cell_type": "code",
   "execution_count": 7,
   "metadata": {},
   "outputs": [],
   "source": [
    "pHit = 0.6\n",
    "pMiss = 0.2"
   ]
  },
  {
   "cell_type": "markdown",
   "metadata": {},
   "source": [
    "<hr>"
   ]
  },
  {
   "cell_type": "markdown",
   "metadata": {},
   "source": [
    "### **Optional:**\n",
    "### Probability After Sense\n",
    "\n",
    "Then the robot senses that it is in a red cell, and updates its probabilities. As per our example:\n",
    "\n",
    "* The probability that it is sensing the correct color is `pHit = 0.6`.\n",
    "* The probability that it is sensing the incorrect color (in this case: seeing red but *actually* in a green cell) is `pMiss = 0.2`\n",
    "\n",
    "<img src='images/robot_sensing.png' width=50% height=50% />\n",
    "\n",
    "#### Next, we write code that outputs a new grid, `p`, after multiplying each entry by pHit or pMiss at the appropriate places. \n",
    "\n",
    "Remember that the red cells (cell 1 and 2) are \"hits\" and the other green cells are \"misses.\"\n",
    "\n",
    "Note that you may see values that are not exact due to how machines imperfectly represent floating points."
   ]
  },
  {
   "cell_type": "code",
   "execution_count": 8,
   "metadata": {},
   "outputs": [
    {
     "name": "stdout",
     "output_type": "stream",
     "text": [
      "[0.04000000000000001, 0.12, 0.12, 0.04000000000000001, 0.04000000000000001]\n"
     ]
    },
    {
     "data": {
      "image/png": "[encoded data removed]",
      "text/plain": [
       "<Figure size 432x288 with 1 Axes>"
      ]
     },
     "metadata": {},
     "output_type": "display_data"
    }
   ],
   "source": [
    "# **OPTIONAL**\n",
    "# Initialization\n",
    "p = initialize_robot(5)\n",
    "pHit  = 0.6\n",
    "pMiss = 0.2\n",
    "\n",
    "# Creates a new grid, with modified probabilities, after sensing\n",
    "p[0] = p[0]*pMiss  # for green\n",
    "p[1] = p[1]*pHit   # for red\n",
    "p[2] = p[2]*pHit   # for red\n",
    "p[3] = p[3]*pMiss  # for green\n",
    "p[4] = p[4]*pMiss  # for green\n",
    "\n",
    "print(p)\n",
    "display_map(p)"
   ]
  },
  {
   "cell_type": "markdown",
   "metadata": {},
   "source": [
    "You should see that the red grid cells (1 and 2) have a higher probability than the green cells. One thing that may look strange is how low these probability bars are, and you may have noticed that these don't accurately represent a probability distribution because the components of this list do not add up to 1!"
   ]
  },
  {
   "cell_type": "code",
   "execution_count": 9,
   "metadata": {},
   "outputs": [
    {
     "name": "stdout",
     "output_type": "stream",
     "text": [
      "0.3600000000000001\n"
     ]
    }
   ],
   "source": [
    "# Compute the sum of all of these probabilities.\n",
    "print(sum(p))"
   ]
  },
  {
   "cell_type": "markdown",
   "metadata": {},
   "source": [
    "As you can see the probabilities doesn't add up to 1."
   ]
  },
  {
   "cell_type": "markdown",
   "metadata": {},
   "source": [
    "<hr>"
   ]
  },
  {
   "cell_type": "markdown",
   "metadata": {},
   "source": [
    "### Sense Function\n",
    "\n",
    "In this notebook, let's go over the steps a robot takes to help localize itself from an initial, uniform distribution to sensing and updating that distribution.\n",
    "\n",
    "You know these steps well, and this time, you're tasked with writing a function `sense` that encompasses this behavior. \n",
    "\n",
    "1. The robot starts off knowing nothing; the robot is equally likely to be anywhere and so `p` is a uniform distribution.\n",
    "2. Then the robot senses a grid color: red or green, and updates this distribution `p` according to the values of pHit and pMiss.\n",
    "\n",
    "* The probability that it is sensing the color correctly is `pHit = 0.6`.\n",
    "* The probability that it is sensing the wrong color is `pMiss = 0.2`\n",
    "\n",
    "<img src='images/robot_sensing.png' width=50% height=50% />"
   ]
  },
  {
   "cell_type": "code",
   "execution_count": 8,
   "metadata": {},
   "outputs": [],
   "source": [
    "# Sense function\n",
    "def sense(p, Z):\n",
    "    \"\"\" \n",
    "    Sense function for localization.\n",
    "    Parameters\n",
    "    ----------\n",
    "    - p : current probability distribution\n",
    "    - Z : a sensor reading\n",
    "    Returns\n",
    "    -------\n",
    "    - a *normalized* distribution after the sensor measurement has been made, q. This should be accurate \n",
    "      whether Z is 'red' or 'green'. \n",
    "    \"\"\"\n",
    "    # Initializing an empty list\n",
    "    q=[]\n",
    "    # check if the sensor reading is equal to the color of the grid cell:\n",
    "    # loop through all grid cells\n",
    "    for i in range((len(p))):\n",
    "        prob = 1\n",
    "        # if the sensor reading is equal to the color of the grid cell\n",
    "        if world[i] == Z:\n",
    "            prob *= p[i] * pHit\n",
    "            q.append(prob)\n",
    "        # if the sensor reading is NOT equal to the color of the grid cell\n",
    "        elif world[i] != Z:\n",
    "            prob *= p[i] * pMiss\n",
    "            q.append(prob) \n",
    "    \"\"\"\n",
    "    Option 2:\n",
    "    for i in range(len(p)):\n",
    "        hit = (Z == world[i])\n",
    "        q.append(p[i] * (hit * pHit + (1-hit) * pMiss))\n",
    "    \"\"\" \n",
    "    # We normalize p such that its components sum to 1:\n",
    "    # sum up all the components\n",
    "    s = sum(q)\n",
    "    # divide all elements of q by the sum to normalize\n",
    "    for i in range(len(p)):\n",
    "        q[i] = q[i] / s\n",
    "    return q"
   ]
  },
  {
   "cell_type": "markdown",
   "metadata": {},
   "source": [
    "### Optional:\n",
    "### Measure Twice\n",
    "Below is the normalized sense function, add code that can loop over muliple measurements, now in a list measurements. Add to this code so that it updates the probability twice and gives the posterior distribution after both measurements are incorporated.\n",
    "\n",
    "Make sure that your code allows for any sequence of measurements whether two measurements or more have been taken."
   ]
  },
  {
   "cell_type": "code",
   "execution_count": 9,
   "metadata": {},
   "outputs": [
    {
     "name": "stdout",
     "output_type": "stream",
     "text": [
      "[0.20000000000000004, 0.19999999999999996, 0.19999999999999996, 0.20000000000000004, 0.20000000000000004]\n"
     ]
    },
    {
     "data": {
      "image/png": "[encoded data removed]",
      "text/plain": [
       "<Figure size 432x288 with 1 Axes>"
      ]
     },
     "metadata": {},
     "output_type": "display_data"
    }
   ],
   "source": [
    "# loop through multiple measurement (twice)\n",
    "for k in range(len(measurements)):\n",
    "    p = sense(p, measurements[k])\n",
    "\n",
    "# You should *still* see a uniform distribution!\n",
    "print(p)\n",
    "display_map(p)"
   ]
  },
  {
   "cell_type": "markdown",
   "metadata": {},
   "source": [
    "<hr>"
   ]
  },
  {
   "cell_type": "markdown",
   "metadata": {},
   "source": [
    "# Move Function"
   ]
  },
  {
   "cell_type": "markdown",
   "metadata": {},
   "source": [
    "#### Move Function\n",
    "Now that you know how a robot uses sensor measurements to update its idea of its own location, let's see how we can incorporate motion into this location. In this notebook, let's go over the steps a robot takes to help localize itself from an initial, uniform distribution to sensing, moving and updating that distribution.\n",
    "\n",
    "We include the `sense` function that you've seen, which updates an initial distribution based on whether a robot senses a grid color: red or green. \n",
    "\n",
    "Next, you're tasked with writing a function `move` that incorporates motion into the distribution. As seen below, **one motion `U= 1` to the right, causes all values in a distribution to shift one grid cell to the right.**\n",
    "\n",
    "<img src='images/motion_1.png' width=50% height=50% />\n",
    "\n",
    "#### Inexact Move Function\n",
    "\n",
    "Let's see how we can incorporate **uncertain** motion into our motion update. We include the `sense` function that you've seen, which updates an initial distribution based on whether a robot senses a grid color: red or green. \n",
    "\n",
    "Next, you're tasked with modifying the `move` function so that it incorporates uncertainty in motion.\n",
    "\n",
    "<img src='images/uncertain_motion.png' width=50% height=50% />\n"
   ]
  },
  {
   "cell_type": "markdown",
   "metadata": {},
   "source": [
    "### Inexactness for Move Function\n",
    "\n",
    "Modify the move function to accommodate the added probabilities of overshooting or undershooting the intended destination.\n",
    "This function should shift a distribution with the motion, U, with some probability of under/overshooting. For the given, initial p, you should see the result for `U = 1` and incorporated uncertainties: `[0.0, 0.1, 0.8, 0.1, 0.0]`."
   ]
  },
  {
   "cell_type": "code",
   "execution_count": 10,
   "metadata": {},
   "outputs": [],
   "source": [
    "pExact = 0.8\n",
    "pOvershoot = 0.1\n",
    "pUndershoot = 0.1"
   ]
  },
  {
   "cell_type": "code",
   "execution_count": 11,
   "metadata": {},
   "outputs": [],
   "source": [
    "# Move function\n",
    "def move(p, U):\n",
    "    \"\"\"\n",
    "    This is a function that returns a new distribution q, shifted to the right by the motion (U) units. Keep \n",
    "    in mind that this world is cyclic and that if U=0, q should be the same as the given p. You should see \n",
    "    all the values in p are moved to the right by 1, for U=1.\n",
    "    \n",
    "    Paramters\n",
    "    ---------\n",
    "    - p : current probability distribution\n",
    "    - U : Motion unit. we shift a distribution with the motion, U\n",
    "    \n",
    "    Return\n",
    "    ------\n",
    "    - q : shifted distribution\n",
    "    -\n",
    "    \"\"\"\n",
    "    # Initializing an empty list\n",
    "    q=[]\n",
    "    # iterate through all values in p\n",
    "    for i in range(len(p)):\n",
    "        # use the modulo operator to find the new location for a p value\n",
    "        # this finds an index that is shifted by the correct amount\n",
    "        index = (i-U) % len(p)\n",
    "        nextIndex = (index+1) % len(p)\n",
    "        prevIndex = (index-1) % len(p)\n",
    "        s = pExact * p[index]\n",
    "        s = s + pOvershoot  * p[nextIndex]\n",
    "        s = s + pUndershoot * p[prevIndex]\n",
    "        # append the correct value of p to q\n",
    "        q.append(s)\n",
    "    return q"
   ]
  },
  {
   "cell_type": "markdown",
   "metadata": {},
   "source": [
    "### Optional:\n",
    "\n",
    "### Multiple Movements\n",
    "\n",
    "Let's see how our robot responds to moving multiple times without sensing!"
   ]
  },
  {
   "cell_type": "code",
   "execution_count": 12,
   "metadata": {},
   "outputs": [
    {
     "name": "stdout",
     "output_type": "stream",
     "text": [
      "[0.20000000000000004, 0.19999999999999996, 0.19999999999999998, 0.20000000000000004, 0.20000000000000007]\n"
     ]
    },
    {
     "data": {
      "image/png": "[encoded data removed]",
      "text/plain": [
       "<Figure size 432x288 with 1 Axes>"
      ]
     },
     "metadata": {},
     "output_type": "display_data"
    }
   ],
   "source": [
    "## TODO: Write code for moving 1000 times\n",
    "for k in range(1000):\n",
    "    p = move(p,1)\n",
    "\n",
    "print(p)\n",
    "display_map(p)"
   ]
  },
  {
   "cell_type": "markdown",
   "metadata": {},
   "source": [
    "<hr>"
   ]
  },
  {
   "cell_type": "markdown",
   "metadata": {},
   "source": [
    "# Sense and Move\n",
    "\n",
    "Here, let's put all of what we've learned together and see what happens to an initial probability distribution as a robot goes trough cycles of sensing then moving then sensing then moving, and so on! Recall that each time a robot senses (in this case a red or green color)it gains information about its environment, and everytime it moves, it loses some information due to motion uncertainty.\n",
    "\n",
    "\n",
    "<img src='images/sense_move.png' width=50% height=50% />\n"
   ]
  },
  {
   "cell_type": "code",
   "execution_count": 13,
   "metadata": {},
   "outputs": [],
   "source": [
    "# Initialization\n",
    "motions = [1,1]"
   ]
  },
  {
   "cell_type": "code",
   "execution_count": 14,
   "metadata": {},
   "outputs": [
    {
     "name": "stdout",
     "output_type": "stream",
     "text": [
      "World:  ['green', 'red', 'red', 'green', 'green']\n",
      "Measurement:  ['red', 'green']\n",
      "P (before):  [0.20000000000000004, 0.19999999999999996, 0.19999999999999998, 0.20000000000000004, 0.20000000000000007]\n"
     ]
    }
   ],
   "source": [
    "print(\"World: \", world)\n",
    "print(\"Measurement: \", measurements)\n",
    "print(\"P (before): \", p)"
   ]
  },
  {
   "cell_type": "code",
   "execution_count": 15,
   "metadata": {},
   "outputs": [],
   "source": [
    "# Compute the posterior distribution if the robot first senses red, then moves right one, then senses \n",
    "# green, then moves right again, starting with a uniform prior distribution.\n",
    "\n",
    "# loop through each measurement\n",
    "for k in range(len(measurements)):\n",
    "    # sense and then move, reading the correct measurements/motions at each step\n",
    "    p = sense(p, measurements[k])\n",
    "    p = move(p, motions[k])"
   ]
  },
  {
   "cell_type": "code",
   "execution_count": 16,
   "metadata": {},
   "outputs": [
    {
     "name": "stdout",
     "output_type": "stream",
     "text": [
      "P (after):  [0.21157894736842106, 0.1515789473684211, 0.08105263157894738, 0.16842105263157892, 0.38736842105263164]\n",
      "The index of max is 4, which indicates after ['red', 'green'], there is green\n"
     ]
    },
    {
     "data": {
      "image/png": "[encoded data removed]",
      "text/plain": [
       "<Figure size 432x288 with 1 Axes>"
      ]
     },
     "metadata": {},
     "output_type": "display_data"
    }
   ],
   "source": [
    "print(\"P (after): \", p)\n",
    "print(\"The index of max is {}, which indicates after {}, there is {}\".format(np.argmax(p), \n",
    "                                                                             measurements,\n",
    "                                                                             world[np.argmax(p)]))\n",
    "display_map(p)"
   ]
  },
  {
   "cell_type": "code",
   "execution_count": null,
   "metadata": {},
   "outputs": [],
   "source": []
  }
 ],
 "metadata": {
  "kernelspec": {
   "display_name": "Python [default]",
   "language": "python",
   "name": "python3"
  },
  "language_info": {
   "codemirror_mode": {
    "name": "ipython",
    "version": 3
   },
   "file_extension": ".py",
   "mimetype": "text/x-python",
   "name": "python",
   "nbconvert_exporter": "python",
   "pygments_lexer": "ipython3",
   "version": "3.6.3"
  }
 },
 "nbformat": 4,
 "nbformat_minor": 2
}
