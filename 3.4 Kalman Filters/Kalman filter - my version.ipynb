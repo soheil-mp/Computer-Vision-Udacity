{
 "cells": [
  {
   "cell_type": "markdown",
   "metadata": {},
   "source": [
    "Later add texts and images from previous notebooks."
   ]
  },
  {
   "cell_type": "code",
   "execution_count": 40,
   "metadata": {},
   "outputs": [],
   "source": [
    "# Importing the libraries\n",
    "import numpy as np\n",
    "import matplotlib.pyplot as plt\n",
    "import math\n",
    "from math import *"
   ]
  },
  {
   "cell_type": "code",
   "execution_count": 41,
   "metadata": {},
   "outputs": [],
   "source": [
    "# Gaussian function\n",
    "def gaussian_function(mu, sigma2, x):\n",
    "    \"\"\"\n",
    "    Calculating the gaussian function\n",
    "    \n",
    "    Parameters\n",
    "    ----------\n",
    "    - x : The input\n",
    "    - mu : The mean\n",
    "    - sigma2 : Squared variance\n",
    "    \n",
    "    Return\n",
    "    ------\n",
    "    - Outputs Gaussian of given parameters\n",
    "    \"\"\"\n",
    "    coefficient = 1.0 / math.sqrt(2.0 * math.pi * sigma2)\n",
    "    exponential = math.exp((-1.2) * (x - mu)**2 / sigma2)\n",
    "    return coefficient * exponential\n"
   ]
  },
  {
   "cell_type": "code",
   "execution_count": 42,
   "metadata": {},
   "outputs": [],
   "source": [
    "# Update function\n",
    "def update(mean1, var1, mean2, var2):\n",
    "    \"\"\"\n",
    "    This function takes in two means and two squared variance terms, and returns updated Gaussian parameters.\n",
    "    \n",
    "    Parameters\n",
    "    ----------\n",
    "    - mean1 : First mean value\n",
    "    - var1 : First squared variance term\n",
    "    - mean2 : Second mean value\n",
    "    - var2 : Second squared variance terms\n",
    "    \n",
    "    Return\n",
    "    ------\n",
    "    - new_mean : Updated mean\n",
    "    - new_var : Updated variance\n",
    "    \"\"\"\n",
    "    # Calculating the new mean\n",
    "    new_mean = ((var2 * mean1) + (var2 * mean2)) / (var1 + var2)\n",
    "    # Calculating the new variance\n",
    "    new_var = 1 / (1/var2 + 1/var1)\n",
    "    return [new_mean, new_var]"
   ]
  },
  {
   "cell_type": "code",
   "execution_count": 43,
   "metadata": {},
   "outputs": [],
   "source": [
    "# The motion/predict function\n",
    "def predict(mean1, var1, mean2, var2):\n",
    "    \"\"\"\n",
    "    This function takes in two means and two squared variance terms, and returns updated Gaussian parameters, \n",
    "    after motion.\n",
    "    \n",
    "    Parameters\n",
    "    ----------\n",
    "    - mean1 : First mean value\n",
    "    - var1 : First squared variance term\n",
    "    - mean2 : Second mean value\n",
    "    - var2 : Second squared variance terms\n",
    "    \n",
    "    Return\n",
    "    ------\n",
    "    - new_mean : mean after motion\n",
    "    - new_var : variance after motion\n",
    "    \n",
    "    \"\"\"\n",
    "    # Calculating the new mean\n",
    "    new_mean = mean1 + mean2\n",
    "    # Calculating the new variance\n",
    "    new_var = var1 + var2\n",
    "    return [new_mean, new_var]"
   ]
  },
  {
   "cell_type": "code",
   "execution_count": 44,
   "metadata": {},
   "outputs": [],
   "source": [
    "# measurements for mu and motions, U\n",
    "measurements = [5., 6., 7., 9., 10.] # Here if you notice, in measuremnet we going the steps the motions tells us. for example exept 1, we take all steps 1 by 1.\n",
    "motions = [1., 1., 2., 1., 1.]\n",
    "\n",
    "# initial parameters\n",
    "measurement_sig = 4.\n",
    "motion_sig = 2.\n",
    "mu = 0.\n",
    "sig = 10000."
   ]
  },
  {
   "cell_type": "code",
   "execution_count": 45,
   "metadata": {},
   "outputs": [
    {
     "name": "stdout",
     "output_type": "stream",
     "text": [
      "Update: [0.001999200319872051, 3.9984006397441023]\n",
      "Predict: [1.001999200319872, 5.998400639744102]\n",
      "Update: [2.801247700551868, 2.399744061425258]\n",
      "Predict: [3.801247700551868, 4.399744061425258]\n",
      "Update: [5.143608005941613, 2.0951800575117594]\n",
      "Predict: [7.143608005941613, 4.09518005751176]\n",
      "Update: [7.976898792244392, 2.0235152416216957]\n",
      "Predict: [8.976898792244391, 4.023515241621696]\n",
      "Update: [9.460640739511488, 2.0058615808441944]\n",
      "Predict: [10.460640739511488, 4.005861580844194]\n"
     ]
    }
   ],
   "source": [
    "# Looping over all meansurements and updates (both have same length)\n",
    "for n in range(len(measurements)):\n",
    "    # Measurement update, with uncertainly\n",
    "    mu, sig = update(mu, sig, measurements[n], measurement_sig)\n",
    "    print('Update: [{}, {}]'.format(mu, sig))\n",
    "    # Motion update, with uncertainly\n",
    "    mu, sig = predict(mu, sig, motions[n], motion_sig)\n",
    "    print('Predict: [{}, {}]'.format(mu, sig))"
   ]
  },
  {
   "cell_type": "code",
   "execution_count": 46,
   "metadata": {},
   "outputs": [
    {
     "name": "stdout",
     "output_type": "stream",
     "text": [
      "Final result: [10.460640739511488, 4.005861580844194]\n"
     ]
    }
   ],
   "source": [
    "# print the final, resultant mu, sig\n",
    "print('Final result: [{}, {}]'.format(mu, sig))"
   ]
  },
  {
   "cell_type": "code",
   "execution_count": 47,
   "metadata": {},
   "outputs": [
    {
     "data": {
      "image/png": "[encoded data removed]",
      "text/plain": [
       "<Figure size 432x288 with 1 Axes>"
      ]
     },
     "metadata": {},
     "output_type": "display_data"
    }
   ],
   "source": [
    "## Print out and display the final, resulting Gaussian \n",
    "# set the parameters equal to the output of the Kalman filter result\n",
    "mu = mu\n",
    "sigma2 = sig\n",
    "\n",
    "# define a range of x values\n",
    "x_axis = np.arange(-20, 20, 0.1)\n",
    "\n",
    "# create a corresponding list of gaussian values\n",
    "g = []\n",
    "for x in x_axis:\n",
    "    g.append(gaussian_function(mu, sigma2, x))\n",
    "\n",
    "# plot the result \n",
    "plt.plot(x_axis, g)\n",
    "plt.show()"
   ]
  },
  {
   "cell_type": "code",
   "execution_count": 48,
   "metadata": {},
   "outputs": [
    {
     "data": {
      "image/png": "[encoded data removed]",
      "text/plain": [
       "<Figure size 432x288 with 1 Axes>"
      ]
     },
     "metadata": {},
     "output_type": "display_data"
    }
   ],
   "source": [
    "# display the *initial* gaussian over a range of x values\n",
    "# define the parameters\n",
    "mu = 0\n",
    "sigma2 = 10000\n",
    "\n",
    "# define a range of x values\n",
    "x_axis = np.arange(-20, 20, 0.1)\n",
    "\n",
    "# create a corresponding list of gaussian values\n",
    "g = []\n",
    "for x in x_axis:\n",
    "    g.append(gaussian_function(mu, sigma2, x))\n",
    "\n",
    "# plot the result \n",
    "plt.plot(x_axis, g)\n",
    "plt.show()"
   ]
  },
  {
   "cell_type": "code",
   "execution_count": null,
   "metadata": {},
   "outputs": [],
   "source": []
  }
 ],
 "metadata": {
  "kernelspec": {
   "display_name": "Python [default]",
   "language": "python",
   "name": "python3"
  },
  "language_info": {
   "codemirror_mode": {
    "name": "ipython",
    "version": 3
   },
   "file_extension": ".py",
   "mimetype": "text/x-python",
   "name": "python",
   "nbconvert_exporter": "python",
   "pygments_lexer": "ipython3",
   "version": "3.6.3"
  }
 },
 "nbformat": 4,
 "nbformat_minor": 2
}
