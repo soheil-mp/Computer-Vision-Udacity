{
 "cells": [
  {
   "cell_type": "markdown",
   "metadata": {},
   "source": [
    "# Different Motion Models"
   ]
  },
  {
   "cell_type": "markdown",
   "metadata": {},
   "source": [
    "## Constant Velocity"
   ]
  },
  {
   "cell_type": "markdown",
   "metadata": {},
   "source": [
    "In the first movement example, you saw that if we assumed our car was moving at a constant speed, 50 m/s, we came up with one prediction for it’s new state: at the 150 m mark, with no change in velocity."
   ]
  },
  {
   "cell_type": "code",
   "execution_count": 1,
   "metadata": {},
   "outputs": [],
   "source": [
    "# Constant velocity case\n",
    "\n",
    "# initial variables\n",
    "x = 0\n",
    "velocity = 50\n",
    "initial_state = [x, velocity]\n",
    "\n",
    "# predicted state (after three seconds)\n",
    "# this state has a new value for x, but the same velocity as in the initial state\n",
    "dt = 3\n",
    "new_x = x + velocity*dt\n",
    "predicted_state = [new_x, velocity]  # predicted_state = [150, 50]"
   ]
  },
  {
   "cell_type": "markdown",
   "metadata": {},
   "source": [
    "For this constant velocity model, we had:\n",
    "\n",
    "- initial state = `[0, 50]`\n",
    "- predicted state (after 3 seconds) = `[150, 50]`"
   ]
  },
  {
   "cell_type": "markdown",
   "metadata": {},
   "source": [
    "## Constant Acceleration"
   ]
  },
  {
   "cell_type": "markdown",
   "metadata": {},
   "source": [
    "But in the second case, we said that the car was slowing down at a rate of 20 m/s^2 and, after 3 seconds had elapsed, we ended up with a different estimate for its state.\n",
    "\n",
    "To solve this localization problem, we had to use a different motion model and we had to include a new value in our state: the acceleration of the car.\n",
    "\n",
    "The motion model was for constant acceleration:\n",
    "\n",
    "- distance = `velocity*dt + 0.5*acceleration*dt^2` and\n",
    "- velocity = `acceleration*dt`\n",
    "The state includes acceleration in this model and looks like this: `[x, velocity, acc]`."
   ]
  },
  {
   "cell_type": "code",
   "execution_count": 2,
   "metadata": {},
   "outputs": [],
   "source": [
    "# Constant acceleration, changing velocity\n",
    "\n",
    "# initial variables\n",
    "x = 0\n",
    "velocity = 50\n",
    "acc = -20\n",
    "\n",
    "initial_state = [x, velocity, acc]\n",
    "\n",
    "# predicted state after three seconds have elapsed\n",
    "# this state has a new value for x, and a new value for velocity (but the acceleration stays the same)\n",
    "dt = 3\n",
    "\n",
    "new_x = x + velocity*dt + 0.5*acc*dt**2\n",
    "new_vel = velocity + acc*dt\n",
    "\n",
    "predicted_state = [new_x, new_vel, acc]  # predicted_state = [60, -10, -20]"
   ]
  },
  {
   "cell_type": "markdown",
   "metadata": {},
   "source": [
    "For this constant acceleration model, we had:\n",
    "\n",
    "- initial state = `[0, 50, -20]`\n",
    "- predicted state (after 3 seconds) = `[60, -10, -20]`\n",
    "As you can see, our state and our state estimates vary based on the motion model we used and how we assumed the car was moving!"
   ]
  },
  {
   "cell_type": "markdown",
   "metadata": {},
   "source": [
    "<b> How Many State Variables? </b>\n",
    "\n",
    "In fact, how many variables our state requires, depends on what motion model we are using.\n",
    "\n",
    "For a constant velocity model, `x` and `velocity` will suffice.\n",
    "\n",
    "But for a constant acceleration model, you'll also need our acceleration:`acc`.\n",
    "\n",
    "But these are all just models."
   ]
  },
  {
   "cell_type": "code",
   "execution_count": null,
   "metadata": {},
   "outputs": [],
   "source": []
  }
 ],
 "metadata": {
  "kernelspec": {
   "display_name": "Python [default]",
   "language": "python",
   "name": "python3"
  },
  "language_info": {
   "codemirror_mode": {
    "name": "ipython",
    "version": 3
   },
   "file_extension": ".py",
   "mimetype": "text/x-python",
   "name": "python",
   "nbconvert_exporter": "python",
   "pygments_lexer": "ipython3",
   "version": "3.6.3"
  }
 },
 "nbformat": 4,
 "nbformat_minor": 2
}
