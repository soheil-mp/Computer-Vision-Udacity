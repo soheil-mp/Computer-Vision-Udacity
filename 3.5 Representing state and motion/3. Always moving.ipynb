{
 "cells": [
  {
   "cell_type": "markdown",
   "metadata": {},
   "source": [
    "# Always Moving\n",
    "\n",
    "Self-driving cars constantly monitor their state. So, movement and localization have to occur in parallel.\n",
    "\n",
    "If we use a Kalman filter for localization, this means that as a car moves, the Kalman filter has to keep coming up with new state estimates. This way, the car always has an idea of where it is.\n",
    "\n",
    "Always Predicting State\n",
    "In the code below, you are given a predict_state function that takes in a current state and a change in time, dt, and returns the new state estimate (based on a constant velocity model).\n",
    "\n",
    "It will be up to you to use this function repeatedly to find the predicted_state at 5 different points in time:\n",
    "\n",
    "- the initial state\n",
    "- the predicted state after 2 seconds have elapsed\n",
    "- the predicted state after 3 more seconds have elapsed\n",
    "- the predicted state after 1 more second has elapsed\n",
    "- the predicted state after 4 more seconds have elapsed\n",
    "\n",
    "To first three states have been given to you in code."
   ]
  },
  {
   "cell_type": "markdown",
   "metadata": {},
   "source": [
    "## Predict state"
   ]
  },
  {
   "cell_type": "markdown",
   "metadata": {},
   "source": [
    "Using a constant velocity motion model."
   ]
  },
  {
   "cell_type": "code",
   "execution_count": 4,
   "metadata": {},
   "outputs": [],
   "source": [
    "# predict state function\n",
    "def predict_state(state, dt):\n",
    "    # Assumes a valid state had been passed in\n",
    "    x = state[0]\n",
    "    velocity = state[1]\n",
    "    \n",
    "    # Assumes a constant velocity model\n",
    "    new_x = x + velocity * dt\n",
    "    \n",
    "    # Create and return the new, predicted state\n",
    "    predicted_state = [new_x, state[1]]\n",
    "    \n",
    "    return predicted_state"
   ]
  },
  {
   "cell_type": "markdown",
   "metadata": {},
   "source": [
    "## Define the initial state"
   ]
  },
  {
   "cell_type": "code",
   "execution_count": 5,
   "metadata": {},
   "outputs": [
    {
     "name": "stdout",
     "output_type": "stream",
     "text": [
      "The initial state is:  [0, 50]\n"
     ]
    }
   ],
   "source": [
    "# Initial state variables\n",
    "initial_position = 0 # meters\n",
    "velocity = 50 # m/s\n",
    "initial_state = [initial_position, velocity]\n",
    "print(\"The initial state is: \", initial_state)"
   ]
  },
  {
   "cell_type": "markdown",
   "metadata": {},
   "source": [
    "## Predict future states"
   ]
  },
  {
   "cell_type": "code",
   "execution_count": 6,
   "metadata": {},
   "outputs": [
    {
     "name": "stdout",
     "output_type": "stream",
     "text": [
      "State after 2 seconds is:  [100, 50]\n"
     ]
    }
   ],
   "source": [
    "# After 2 seconds:\n",
    "state_est1 = predict_state(initial_state, 2)\n",
    "print(\"State after 2 seconds is: \", state_est1)"
   ]
  },
  {
   "cell_type": "code",
   "execution_count": 9,
   "metadata": {},
   "outputs": [
    {
     "name": "stdout",
     "output_type": "stream",
     "text": [
      "State after 3 more seconds is:  [250, 50]\n"
     ]
    }
   ],
   "source": [
    "# After 3 more seconds\n",
    "state_est2 = predict_state(state_est1, 3)\n",
    "print(\"State after 3 more seconds is: \", state_est2)"
   ]
  },
  {
   "cell_type": "code",
   "execution_count": 10,
   "metadata": {},
   "outputs": [
    {
     "name": "stdout",
     "output_type": "stream",
     "text": [
      "State after 3 more seconds is:  [400, 50]\n"
     ]
    }
   ],
   "source": [
    "# After 3 more seconds\n",
    "state_est3 = predict_state(state_est2, 3)\n",
    "print(\"State after 3 more seconds is: \", state_est3)"
   ]
  }
 ],
 "metadata": {
  "kernelspec": {
   "display_name": "Python [default]",
   "language": "python",
   "name": "python3"
  },
  "language_info": {
   "codemirror_mode": {
    "name": "ipython",
    "version": 3
   },
   "file_extension": ".py",
   "mimetype": "text/x-python",
   "name": "python",
   "nbconvert_exporter": "python",
   "pygments_lexer": "ipython3",
   "version": "3.6.3"
  }
 },
 "nbformat": 4,
 "nbformat_minor": 2
}
