{
 "cells": [
  {
   "cell_type": "markdown",
   "metadata": {},
   "source": [
    "# Classifying Fashion-MNIST\n",
    "\n",
    "Now it's your turn to build a neural network. You'll be using the [Fashion-MNIST dataset](https://github.com/zalandoresearch/fashion-mnist), a drop-in replacement for the MNIST dataset. MNIST is actually quite trivial with neural networks where you can easily achieve better than 97% accuracy. Fashion-MNIST is a set of 28x28 greyscale images of clothes. It's more complex than MNIST, so it's a better representation of the actual performance of your network, and a better representation of datasets you'll use in the real world.\n",
    "\n",
    "<img src='assets/fashion-mnist-sprite.png' width=500px>\n",
    "\n",
    "In this notebook, you'll build your own neural network. For the most part, you could just copy and paste the code from Part 3, but you wouldn't be learning. It's important for you to write the code yourself and get it to work. Feel free to consult the previous notebook though as you work through this.\n",
    "\n",
    "First off, let's load the dataset through torchvision."
   ]
  },
  {
   "cell_type": "code",
   "execution_count": 49,
   "metadata": {},
   "outputs": [],
   "source": [
    "# Importing the libraries\n",
    "import numpy as np\n",
    "import matplotlib.pyplot as plt\n",
    "import helper\n",
    "import time\n",
    "import torch\n",
    "from torchvision import datasets, transforms\n",
    "\n",
    "%matplotlib inline\n",
    "%config InlineBackend.figure_format = 'retina'"
   ]
  },
  {
   "cell_type": "code",
   "execution_count": 50,
   "metadata": {},
   "outputs": [],
   "source": [
    "# Defining a transform to normalize the data\n",
    "transform = transforms.Compose(transforms = [transforms.ToTensor(),\n",
    "                                             transforms.Normalize(mean = (0.5, 0.5, 0.5),\n",
    "                                                                  std = (0.5, 0.5, 0.5))])\n",
    "\n",
    "# Downloading and loading the training data\n",
    "trainset = datasets.FashionMNIST(root = './F_MNIST_data/', train = True, transform = transform, download = True)\n",
    "trainloader = torch.utils.data.DataLoader(dataset = trainset, batch_size = 64, shuffle = True)\n",
    "\n",
    "# Downloading and loading the test data\n",
    "testset = datasets.FashionMNIST(root = './F_MNIST_data/', train = False, transform = transform, download = True)\n",
    "testloader = torch.utils.data.DataLoader(dataset = testset, batch_size = 64, shuffle = True)"
   ]
  },
  {
   "cell_type": "markdown",
   "metadata": {},
   "source": [
    "Here we can see one of the images."
   ]
  },
  {
   "cell_type": "code",
   "execution_count": 51,
   "metadata": {},
   "outputs": [
    {
     "data": {
      "image/png": "[encoded data removed]",
      "text/plain": [
       "<matplotlib.figure.Figure at 0x120682c50>"
      ]
     },
     "metadata": {
      "image/png": {
       "height": 233,
       "width": 233
      }
     },
     "output_type": "display_data"
    }
   ],
   "source": [
    "image, label = next(iter(trainloader))\n",
    "helper.imshow(image[0, :]);"
   ]
  },
  {
   "cell_type": "markdown",
   "metadata": {},
   "source": [
    "With the data loaded, it's time to import the necessary packages."
   ]
  },
  {
   "cell_type": "code",
   "execution_count": 52,
   "metadata": {},
   "outputs": [],
   "source": [
    "# Importing the torch libraries\n",
    "import torch\n",
    "from torch import nn, optim\n",
    "import torch.nn.functional as F\n",
    "from torch.autograd import Variable"
   ]
  },
  {
   "cell_type": "markdown",
   "metadata": {},
   "source": [
    "## Building the network\n",
    "\n",
    "Here you should define your network. As with MNIST, each image is 28x28 which is a total of 784 pixels, and there are 10 classes. You should include at least one hidden layer. We suggest you use ReLU activations for the layers and to return the logits from the forward pass. It's up to you how many layers you add and the size of those layers."
   ]
  },
  {
   "cell_type": "code",
   "execution_count": 53,
   "metadata": {},
   "outputs": [],
   "source": [
    "class Network(nn.Module):\n",
    "    \n",
    "    def __init__(self):\n",
    "        \n",
    "        super().__init__()\n",
    "        \n",
    "        # Defining the first layer \n",
    "        self.fc1 = nn.Linear(in_features = 784, out_features = 200)\n",
    "        \n",
    "        # Defining the second layer\n",
    "        self.fc2 = nn.Linear(in_features = 200, out_features = 50)\n",
    "        \n",
    "        # Defining the third layer\n",
    "        self.fc3 = nn.Linear(in_features = 50, out_features = 10)\n",
    "        \n",
    "    def forward(self, x):\n",
    "        \"\"\"\n",
    "        Forward pass through the network.\n",
    "        \"\"\"\n",
    "        # First layer\n",
    "        x = self.fc1(x)\n",
    "        x = F.relu(x)\n",
    "        \n",
    "        # Second layer\n",
    "        x = self.fc2(x)\n",
    "        x = F.relu(x)\n",
    "        \n",
    "        # Third layer\n",
    "        x = self.fc3(x)\n",
    "        \n",
    "        return x\n",
    "    \n",
    "    def predict(self, x):\n",
    "        \"\"\"\n",
    "        Predicting amoung the classes using softmax.\n",
    "        \"\"\"\n",
    "        logits = self.forward(x)\n",
    "        return F.softmax(logits, dim = 1)"
   ]
  },
  {
   "cell_type": "markdown",
   "metadata": {},
   "source": [
    "# Train the network\n",
    "\n",
    "Now you should create your network and train it. First you'll want to define [the criterion](http://pytorch.org/docs/master/nn.html#loss-functions) ( something like `nn.CrossEntropyLoss`) and [the optimizer](http://pytorch.org/docs/master/optim.html) (typically `optim.SGD` or `optim.Adam`).\n",
    "\n",
    "Then write the training code. Remember the training pass is a fairly straightforward process:\n",
    "\n",
    "* Make a forward pass through the network to get the logits \n",
    "* Use the logits to calculate the loss\n",
    "* Perform a backward pass through the network with `loss.backward()` to calculate the gradients\n",
    "* Take a step with the optimizer to update the weights\n",
    "\n",
    "By adjusting the hyperparameters (hidden units, learning rate, etc), you should be able to get the training loss below 0.4."
   ]
  },
  {
   "cell_type": "code",
   "execution_count": 54,
   "metadata": {},
   "outputs": [],
   "source": [
    "# Create the network, define the criterion and optimizer\n",
    "model = Network()\n",
    "criterion = nn.CrossEntropyLoss()\n",
    "optimizer = optim.Adam(params = model.parameters(), lr = 0.0001)"
   ]
  },
  {
   "cell_type": "code",
   "execution_count": 61,
   "metadata": {
    "scrolled": true
   },
   "outputs": [
    {
     "name": "stderr",
     "output_type": "stream",
     "text": [
      "/Users/soheil/anaconda3/lib/python3.6/site-packages/ipykernel/__main__.py:36: UserWarning: invalid index of a 0-dim tensor. This will be an error in PyTorch 0.5. Use tensor.item() to convert a 0-dim tensor to a Python number\n"
     ]
    },
    {
     "name": "stdout",
     "output_type": "stream",
     "text": [
      "Epoch 1/3, Loss: 0.3548\n",
      "Epoch 1/3, Loss: 0.3669\n",
      "Epoch 1/3, Loss: 0.3481\n",
      "Epoch 1/3, Loss: 0.3607\n",
      "Epoch 1/3, Loss: 0.3456\n",
      "Epoch 1/3, Loss: 0.3365\n",
      "Epoch 1/3, Loss: 0.3463\n",
      "Epoch 1/3, Loss: 0.3694\n",
      "Epoch 1/3, Loss: 0.3620\n",
      "Epoch 1/3, Loss: 0.3508\n",
      "Epoch 1/3, Loss: 0.3346\n",
      "Epoch 1/3, Loss: 0.3438\n",
      "Epoch 1/3, Loss: 0.3619\n",
      "Epoch 1/3, Loss: 0.3697\n",
      "Epoch 1/3, Loss: 0.3443\n",
      "Epoch 1/3, Loss: 0.3356\n",
      "Epoch 1/3, Loss: 0.3746\n",
      "Epoch 1/3, Loss: 0.3348\n",
      "Epoch 1/3, Loss: 0.3671\n",
      "Epoch 1/3, Loss: 0.3676\n",
      "Epoch 1/3, Loss: 0.3455\n",
      "Epoch 1/3, Loss: 0.3385\n",
      "Epoch 1/3, Loss: 0.3531\n",
      "Epoch 2/3, Loss: 0.1757\n",
      "Epoch 2/3, Loss: 0.3463\n",
      "Epoch 2/3, Loss: 0.3220\n",
      "Epoch 2/3, Loss: 0.3510\n",
      "Epoch 2/3, Loss: 0.3453\n",
      "Epoch 2/3, Loss: 0.3518\n",
      "Epoch 2/3, Loss: 0.3558\n",
      "Epoch 2/3, Loss: 0.3576\n",
      "Epoch 2/3, Loss: 0.3252\n",
      "Epoch 2/3, Loss: 0.3436\n",
      "Epoch 2/3, Loss: 0.3352\n",
      "Epoch 2/3, Loss: 0.3296\n",
      "Epoch 2/3, Loss: 0.3264\n",
      "Epoch 2/3, Loss: 0.3383\n",
      "Epoch 2/3, Loss: 0.3197\n",
      "Epoch 2/3, Loss: 0.3447\n",
      "Epoch 2/3, Loss: 0.3435\n",
      "Epoch 2/3, Loss: 0.3493\n",
      "Epoch 2/3, Loss: 0.3550\n",
      "Epoch 2/3, Loss: 0.3502\n",
      "Epoch 2/3, Loss: 0.3316\n",
      "Epoch 2/3, Loss: 0.3420\n",
      "Epoch 2/3, Loss: 0.3218\n",
      "Epoch 3/3, Loss: 0.0261\n",
      "Epoch 3/3, Loss: 0.3523\n",
      "Epoch 3/3, Loss: 0.3234\n",
      "Epoch 3/3, Loss: 0.3278\n",
      "Epoch 3/3, Loss: 0.3372\n",
      "Epoch 3/3, Loss: 0.3169\n",
      "Epoch 3/3, Loss: 0.3152\n",
      "Epoch 3/3, Loss: 0.3379\n",
      "Epoch 3/3, Loss: 0.3456\n",
      "Epoch 3/3, Loss: 0.3514\n",
      "Epoch 3/3, Loss: 0.3330\n",
      "Epoch 3/3, Loss: 0.3215\n",
      "Epoch 3/3, Loss: 0.3376\n",
      "Epoch 3/3, Loss: 0.3384\n",
      "Epoch 3/3, Loss: 0.3337\n",
      "Epoch 3/3, Loss: 0.3266\n",
      "Epoch 3/3, Loss: 0.3278\n",
      "Epoch 3/3, Loss: 0.3224\n",
      "Epoch 3/3, Loss: 0.3307\n",
      "Epoch 3/3, Loss: 0.3475\n",
      "Epoch 3/3, Loss: 0.3247\n",
      "Epoch 3/3, Loss: 0.3077\n",
      "Epoch 3/3, Loss: 0.3364\n",
      "Epoch 3/3, Loss: 0.3514\n"
     ]
    }
   ],
   "source": [
    "# Train the network here\n",
    "\n",
    "# Initialization\n",
    "epochs = 3\n",
    "print_every = 40\n",
    "steps = 0\n",
    "\n",
    "# Iterating thorugh epochs\n",
    "for e in range(epochs):\n",
    "    \n",
    "    running_loss = 0\n",
    "    \n",
    "    # Iterating though images and labels\n",
    "    for images, labels in iter(trainloader):\n",
    "        \n",
    "        # Incrementing the steps\n",
    "        steps += 1\n",
    "        \n",
    "        # Flattening the images\n",
    "        images.resize_(images.size()[0], 784)\n",
    "        \n",
    "        # Wrapping images and labels in Variables\n",
    "        inputs = Variable(images)\n",
    "        targets = Variable(labels)\n",
    "        \n",
    "        # Reseting gradients zeros\n",
    "        optimizer.zero_grad()\n",
    "        \n",
    "        # Forward and backward passes\n",
    "        output = model.forward(inputs)\n",
    "        loss = criterion(output, targets)\n",
    "        loss.backward()\n",
    "        optimizer.step()\n",
    "        \n",
    "        # Adding up the loss\n",
    "        running_loss += loss.data[0]\n",
    "        \n",
    "        # Printing out the progress\n",
    "        if steps % print_every == 0:\n",
    "            print(\"Epoch {}/{}, Loss: {:.4f}\".format(e + 1, epochs, running_loss / print_every))\n",
    "            \n",
    "            running_loss = 0"
   ]
  },
  {
   "cell_type": "code",
   "execution_count": 63,
   "metadata": {},
   "outputs": [
    {
     "data": {
      "image/png": "[encoded data removed]",
      "text/plain": [
       "<matplotlib.figure.Figure at 0x12e3cb748>"
      ]
     },
     "metadata": {
      "image/png": {
       "height": 197,
       "width": 370
      }
     },
     "output_type": "display_data"
    }
   ],
   "source": [
    "dataiter = iter(testloader)\n",
    "images, labels = dataiter.next()\n",
    "\n",
    "img = images[0]\n",
    "logits = model.forward(Variable(img.resize_(1, 784)))\n",
    "ps = F.softmax(logits, dim=1)\n",
    "helper.view_classify(img.resize_(1, 28, 28), ps)"
   ]
  },
  {
   "cell_type": "markdown",
   "metadata": {},
   "source": [
    "Now that your network is trained, you'll want to save it to disk so you can load it later instead of training it again. Obviously, it's impractical to train a network every time you need one. In practice, you'll train it once, save the model, then reload it for further training or making predictions. In the next part, I'll show you how to save and load trained models."
   ]
  }
 ],
 "metadata": {
  "kernelspec": {
   "display_name": "Python [default]",
   "language": "python",
   "name": "python3"
  },
  "language_info": {
   "codemirror_mode": {
    "name": "ipython",
    "version": 3
   },
   "file_extension": ".py",
   "mimetype": "text/x-python",
   "name": "python",
   "nbconvert_exporter": "python",
   "pygments_lexer": "ipython3",
   "version": "3.6.3"
  }
 },
 "nbformat": 4,
 "nbformat_minor": 2
}
