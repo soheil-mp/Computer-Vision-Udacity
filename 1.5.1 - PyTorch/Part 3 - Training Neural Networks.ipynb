{
 "cells": [
  {
   "cell_type": "markdown",
   "metadata": {},
   "source": [
    "# Training Neural Networks\n",
    "\n",
    "The network we built in the previous part is dumb, it doesn't know anything about our handwritten digits. Neural networks with non-linear activations work like universal function approximators. There is some function that maps your input to the output. For example, images of handwritten digits to class probabilities. The power of neural networks is that we can train them to approximate this function, and basically any function given enough data and compute time.\n",
    "\n",
    "<img src=\"assets/function_approx.png\" width=500px>\n",
    "\n",
    "At first the network is naive, it doesn't know the function mapping the inputs to the outputs. We train the network by showing it examples of real data, then adjusting the network parameters such that it approximates this function.\n",
    "\n",
    "To find these parameters, we need to know how poorly the network is predicting the real outputs. For this we calculate a **loss function** (also called the cost), a measure of our prediction error. For example, the mean squared loss is often used in regression and binary classification problems\n",
    "\n",
    "$$\n",
    "\\ell = \\frac{1}{2n}\\sum_i^n{\\left(y_i - \\hat{y}_i\\right)^2}\n",
    "$$\n",
    "\n",
    "where $n$ is the number of training examples, $y_i$ are the true labels, and $\\hat{y}_i$ are the predicted labels.\n",
    "\n",
    "By minimizing this loss with respect to the network parameters, we can find configurations where the loss is at a minimum and the network is able to predict the correct labels with high accuracy. We find this minimum using a process called **gradient descent**. The gradient is the slope of the loss function and points in the direction of fastest change. To get to the minimum in the least amount of time, we then want to follow the gradient (downwards). You can think of this like descending a mountain by following the steepest slope to the base.\n",
    "\n",
    "<img src='assets/gradient_descent.png' width=350px>"
   ]
  },
  {
   "cell_type": "markdown",
   "metadata": {},
   "source": [
    "## Backpropagation\n",
    "\n",
    "For single layer networks, gradient descent is simple to implement. However, it's more complicated for deeper, multilayer neural networks like the one we've built. Complicated enough that it took about 30 years before researchers figured out how to train multilayer networks, although it's straightforward once you learn about it. \n",
    "\n",
    "This is done through **backpropagation** which is really just an application of the chain rule from calculus. It's easiest to understand if we convert a two layer network into a graph representation.\n",
    "\n",
    "<img src='assets/w1_backprop_graph.png' width=400px>\n",
    "\n",
    "In the forward pass through the network, our data and operations go from right to left here. To train the weights with gradient descent, we propagate the gradient of the cost backwards through the network. Mathematically, this is really just calculating the gradient of the loss with respect to the weights using the chain rule.\n",
    "\n",
    "$$\n",
    "\\frac{\\partial \\ell}{\\partial w_1} = \\frac{\\partial l_1}{\\partial w_1} \\frac{\\partial s}{\\partial l_1} \\frac{\\partial l_2}{\\partial s} \\frac{\\partial \\ell}{\\partial l_2}\n",
    "$$\n",
    "\n",
    "We update our weights using this gradient with some learning rate $\\alpha$. \n",
    "\n",
    "$$\n",
    "w^\\prime = w - \\alpha \\frac{\\partial \\ell}{\\partial w}\n",
    "$$\n",
    "\n",
    "The learning rate is set such that the weight update steps are small enough that the iterative method settles in a minimum.\n",
    "\n",
    "The first thing we need to do for training is define our loss function. In PyTorch, you'll usually see this as `criterion`. Here we're using softmax output, so we want to use `criterion = nn.CrossEntropyLoss()` as our loss. Later when training, you use `loss = criterion(output, targets)` to calculate the actual loss.\n",
    "\n",
    "We also need to define the optimizer we're using, SGD or Adam, or something along those lines. Here I'll just use SGD with `torch.optim.SGD`, passing in the network parameters and the learning rate."
   ]
  },
  {
   "cell_type": "markdown",
   "metadata": {},
   "source": [
    "## Autograd\n",
    "\n",
    "Torch provides a module, `autograd`, for automatically calculating the gradient of tensors. It does this by keeping track of operations performed on tensors. For PyTorch to track operations, you need to wrap a tensor with the `Variable` class from `torch.autograd`. You can get the tensor back with the `.data` attribute of the Variable.\n",
    "\n",
    "The gradients are computed with respect to some variable `z` with `z.backward()`. This does a backward pass through the operations that created `z`."
   ]
  },
  {
   "cell_type": "code",
   "execution_count": 46,
   "metadata": {},
   "outputs": [],
   "source": [
    "%matplotlib inline\n",
    "%config InlineBackend.figure_format = 'retina'\n",
    "\n",
    "import numpy as np\n",
    "import time\n",
    "\n",
    "import torch\n",
    "from torch import nn\n",
    "from torch import optim\n",
    "import torch.nn.functional as F\n",
    "from torch.autograd import Variable\n",
    "\n",
    "import helper"
   ]
  },
  {
   "cell_type": "code",
   "execution_count": 47,
   "metadata": {},
   "outputs": [
    {
     "name": "stdout",
     "output_type": "stream",
     "text": [
      "tensor([[-1.2678,  1.1900],\n",
      "        [ 1.2668, -0.8127]])\n"
     ]
    }
   ],
   "source": [
    "x = torch.randn(2,2)\n",
    "x = Variable(x, requires_grad=True)\n",
    "print(x)"
   ]
  },
  {
   "cell_type": "code",
   "execution_count": 48,
   "metadata": {},
   "outputs": [
    {
     "name": "stdout",
     "output_type": "stream",
     "text": [
      "tensor([[ 1.6072,  1.4161],\n",
      "        [ 1.6048,  0.6604]])\n"
     ]
    }
   ],
   "source": [
    "y = x**2\n",
    "print(y)"
   ]
  },
  {
   "cell_type": "markdown",
   "metadata": {},
   "source": [
    "Below we can see the operation that created `y`, a power operation `PowBackward0`."
   ]
  },
  {
   "cell_type": "code",
   "execution_count": 49,
   "metadata": {},
   "outputs": [
    {
     "name": "stdout",
     "output_type": "stream",
     "text": [
      "<PowBackward0 object at 0x115de39e8>\n"
     ]
    }
   ],
   "source": [
    "## grad_fn shows the function that generated this variable\n",
    "print(y.grad_fn)"
   ]
  },
  {
   "cell_type": "markdown",
   "metadata": {},
   "source": [
    "The autgrad module keeps track of these operations and knows how to calculate the gradient for each one. In this way, it's able to calculate the gradients for a chain of operations, with respect to any one tensor. Let's reduce the tensor `y` to a scalar value, the mean."
   ]
  },
  {
   "cell_type": "code",
   "execution_count": 50,
   "metadata": {},
   "outputs": [
    {
     "name": "stdout",
     "output_type": "stream",
     "text": [
      "tensor(1.3221)\n"
     ]
    }
   ],
   "source": [
    "z = y.mean()\n",
    "print(z)"
   ]
  },
  {
   "cell_type": "markdown",
   "metadata": {},
   "source": [
    "You can check the gradients for `x` and `y` but they are empty currently."
   ]
  },
  {
   "cell_type": "code",
   "execution_count": 51,
   "metadata": {},
   "outputs": [
    {
     "name": "stdout",
     "output_type": "stream",
     "text": [
      "None\n"
     ]
    }
   ],
   "source": [
    "print(x.grad)"
   ]
  },
  {
   "cell_type": "markdown",
   "metadata": {},
   "source": [
    "To calculate the gradients, you need to run the `.backward` method on a Variable, `z` for example. This will calculate the gradient for `z` with respect to `x`\n",
    "\n",
    "$$\n",
    "\\frac{\\partial z}{\\partial x} = \\frac{\\partial}{\\partial x}\\left[\\frac{1}{n}\\sum_i^n x_i^2\\right] = \\frac{x}{2}\n",
    "$$"
   ]
  },
  {
   "cell_type": "code",
   "execution_count": 52,
   "metadata": {},
   "outputs": [
    {
     "name": "stdout",
     "output_type": "stream",
     "text": [
      "tensor([[-0.6339,  0.5950],\n",
      "        [ 0.6334, -0.4063]])\n",
      "tensor([[-0.6339,  0.5950],\n",
      "        [ 0.6334, -0.4063]])\n"
     ]
    }
   ],
   "source": [
    "z.backward()\n",
    "print(x.grad)\n",
    "print(x/2)"
   ]
  },
  {
   "cell_type": "markdown",
   "metadata": {},
   "source": [
    "These gradients calculations are particularly useful for neural networks. For training we need the gradients of the weights with respect to the cost. With PyTorch, we run data forward through the network to calculate the cost, then, go backwards to calculate the gradients with respect to the cost. Once we have the gradients we can make a gradient descent step. "
   ]
  },
  {
   "cell_type": "markdown",
   "metadata": {},
   "source": [
    "## Get the data and define the network\n",
    "\n",
    "The same as we saw in part 3, we'll load the MNIST dataset and define our network."
   ]
  },
  {
   "cell_type": "code",
   "execution_count": 53,
   "metadata": {},
   "outputs": [],
   "source": [
    "from torchvision import datasets, transforms\n",
    "\n",
    "# Define a transform to normalize the data\n",
    "transform = transforms.Compose([transforms.ToTensor(),\n",
    "                              transforms.Normalize((0.5, 0.5, 0.5), (0.5, 0.5, 0.5)),\n",
    "                             ])\n",
    "# Download and load the training data\n",
    "trainset = datasets.MNIST('MNIST_data/', download=True, train=True, transform=transform)\n",
    "trainloader = torch.utils.data.DataLoader(trainset, batch_size=64, shuffle=True)\n",
    "\n",
    "# Download and load the test data\n",
    "testset = datasets.MNIST('MNIST_data/', download=True, train=False, transform=transform)\n",
    "testloader = torch.utils.data.DataLoader(testset, batch_size=64, shuffle=True)"
   ]
  },
  {
   "cell_type": "code",
   "execution_count": 54,
   "metadata": {},
   "outputs": [],
   "source": [
    "class Network(nn.Module):\n",
    "    def __init__(self):\n",
    "        super().__init__()\n",
    "        # Defining the layers, 200, 50, 10 units each\n",
    "        self.fc1 = nn.Linear(784, 200)\n",
    "        self.fc2 = nn.Linear(200, 50)\n",
    "        # Output layer, 10 units - one for each digit\n",
    "        self.fc3 = nn.Linear(50, 10)\n",
    "        \n",
    "    def forward(self, x):\n",
    "        ''' Forward pass through the network, returns the output logits '''\n",
    "        \n",
    "        x = self.fc1(x)\n",
    "        x = F.relu(x)\n",
    "        x = self.fc2(x)\n",
    "        x = F.relu(x)\n",
    "        x = self.fc3(x)\n",
    "        \n",
    "        return x\n",
    "    \n",
    "    def predict(self, x):\n",
    "        ''' This function predicts classes by calculating the softmax '''\n",
    "        logits = self.forward(x)\n",
    "        return F.softmax(logits, dim=1)"
   ]
  },
  {
   "cell_type": "markdown",
   "metadata": {},
   "source": [
    "## Training the network!\n",
    "\n",
    "The first thing we need to do for training is define our loss function. In PyTorch, you'll usually see this as `criterion`. Here we're using softmax output, so we want to use `criterion = nn.CrossEntropyLoss()` as our loss. Later when training, you use `loss = criterion(output, targets)` to calculate the actual loss.\n",
    "\n",
    "We also need to define the optimizer we're using, SGD or Adam, or something along those lines. Here I'll just use SGD with `torch.optim.SGD`, passing in the network parameters and the learning rate."
   ]
  },
  {
   "cell_type": "code",
   "execution_count": 55,
   "metadata": {},
   "outputs": [],
   "source": [
    "net = Network()\n",
    "criterion = nn.CrossEntropyLoss()\n",
    "optimizer = optim.SGD(net.parameters(), lr=0.01)"
   ]
  },
  {
   "cell_type": "markdown",
   "metadata": {},
   "source": [
    "First, let's consider just one learning step before looping through all the data. The general process with PyTorch:\n",
    "\n",
    "* Make a forward pass through the network to get the logits \n",
    "* Use the logits to calculate the loss\n",
    "* Perform a backward pass through the network with `loss.backward()` to calculate the gradients\n",
    "* Take a step with the optimizer to update the weights\n",
    "\n",
    "Below I'll go through one training step and print out the weights and gradients so you can see how it changes."
   ]
  },
  {
   "cell_type": "code",
   "execution_count": 56,
   "metadata": {
    "scrolled": false
   },
   "outputs": [
    {
     "name": "stdout",
     "output_type": "stream",
     "text": [
      "Initial weights -  Parameter containing:\n",
      "tensor([[ 2.5682e-02,  2.7831e-02, -3.5702e-02,  ...,  2.2752e-02,\n",
      "          1.7251e-02,  6.8263e-03],\n",
      "        [ 3.4554e-02,  3.2709e-02,  2.0891e-02,  ..., -4.3674e-03,\n",
      "         -2.1060e-03,  5.7272e-04],\n",
      "        [ 3.3070e-02, -1.2502e-02,  2.6005e-02,  ..., -8.1675e-03,\n",
      "          1.5577e-02, -2.0581e-02],\n",
      "        ...,\n",
      "        [ 3.2903e-02,  4.9872e-03,  1.6469e-02,  ...,  2.0656e-02,\n",
      "         -1.8585e-02, -3.1901e-02],\n",
      "        [-3.0554e-02, -2.5654e-02,  1.1971e-02,  ...,  2.4742e-02,\n",
      "         -2.8264e-02, -2.4547e-02],\n",
      "        [ 1.6509e-02, -2.4615e-02,  1.2471e-02,  ...,  3.4958e-02,\n",
      "          2.3072e-02,  1.8552e-03]])\n",
      "Gradient - tensor(1.00000e-02 *\n",
      "       [[-0.3367, -0.3367, -0.3367,  ..., -0.3367, -0.3367, -0.3367],\n",
      "        [-0.0258, -0.0258, -0.0258,  ..., -0.0258, -0.0258, -0.0258],\n",
      "        [-0.1260, -0.1260, -0.1260,  ..., -0.1260, -0.1260, -0.1260],\n",
      "        ...,\n",
      "        [-0.2219, -0.2219, -0.2219,  ..., -0.2219, -0.2219, -0.2219],\n",
      "        [ 0.0627,  0.0627,  0.0627,  ...,  0.0627,  0.0627,  0.0627],\n",
      "        [ 0.4601,  0.4601,  0.4601,  ...,  0.4601,  0.4601,  0.4601]])\n"
     ]
    }
   ],
   "source": [
    "print('Initial weights - ', net.fc1.weight)\n",
    "\n",
    "dataiter = iter(trainloader)\n",
    "images, labels = dataiter.next()\n",
    "\n",
    "images.resize_(64, 784)\n",
    "\n",
    "# Create Variables for the inputs and targets\n",
    "inputs = Variable(images)\n",
    "targets = Variable(labels)\n",
    "\n",
    "# Clear the gradients from all Variables\n",
    "optimizer.zero_grad()\n",
    "\n",
    "# Forward pass, then backward pass, then update weights\n",
    "output = net.forward(inputs)\n",
    "loss = criterion(output, targets)\n",
    "loss.backward()\n",
    "print('Gradient -', net.fc1.weight.grad)\n",
    "optimizer.step()"
   ]
  },
  {
   "cell_type": "code",
   "execution_count": 58,
   "metadata": {},
   "outputs": [
    {
     "name": "stdout",
     "output_type": "stream",
     "text": [
      "Updated weights -  Parameter containing:\n",
      "tensor([[ 2.5727e-02,  2.7877e-02, -3.5657e-02,  ...,  2.2797e-02,\n",
      "          1.7296e-02,  6.8715e-03],\n",
      "        [ 3.4577e-02,  3.2733e-02,  2.0915e-02,  ..., -4.3434e-03,\n",
      "         -2.0821e-03,  5.9664e-04],\n",
      "        [ 3.3082e-02, -1.2491e-02,  2.6017e-02,  ..., -8.1556e-03,\n",
      "          1.5589e-02, -2.0569e-02],\n",
      "        ...,\n",
      "        [ 3.2929e-02,  5.0133e-03,  1.6495e-02,  ...,  2.0682e-02,\n",
      "         -1.8558e-02, -3.1875e-02],\n",
      "        [-3.0566e-02, -2.5667e-02,  1.1959e-02,  ...,  2.4730e-02,\n",
      "         -2.8276e-02, -2.4559e-02],\n",
      "        [ 1.6433e-02, -2.4690e-02,  1.2396e-02,  ...,  3.4883e-02,\n",
      "          2.2997e-02,  1.7799e-03]])\n"
     ]
    }
   ],
   "source": [
    "print('Updated weights - ', net.fc1.weight)"
   ]
  },
  {
   "cell_type": "markdown",
   "metadata": {},
   "source": [
    "### Training for real\n",
    "\n",
    "Now we'll put this algorithm into a loop so we can go through all the images. This is fairly straightforward. We'll loop through the mini-batches in our dataset, pass the data through the network to calculate the losses, get the gradients, then run the optimizer."
   ]
  },
  {
   "cell_type": "code",
   "execution_count": 13,
   "metadata": {},
   "outputs": [],
   "source": [
    "model = Network()\n",
    "optimizer = optim.SGD(model.parameters(), lr=0.003)"
   ]
  },
  {
   "cell_type": "code",
   "execution_count": 62,
   "metadata": {
    "scrolled": true
   },
   "outputs": [
    {
     "name": "stderr",
     "output_type": "stream",
     "text": [
      "/Users/soheil/anaconda3/lib/python3.6/site-packages/ipykernel/__main__.py:22: UserWarning: invalid index of a 0-dim tensor. This will be an error in PyTorch 0.5. Use tensor.item() to convert a 0-dim tensor to a Python number\n"
     ]
    },
    {
     "name": "stdout",
     "output_type": "stream",
     "text": [
      "Epoch: 1/3...  Loss: 1.0757\n",
      "Epoch: 1/3...  Loss: 1.0152\n",
      "Epoch: 1/3...  Loss: 0.9864\n",
      "Epoch: 1/3...  Loss: 0.9383\n",
      "Epoch: 1/3...  Loss: 0.9056\n",
      "Epoch: 1/3...  Loss: 0.8784\n",
      "Epoch: 1/3...  Loss: 0.8683\n",
      "Epoch: 1/3...  Loss: 0.8303\n",
      "Epoch: 1/3...  Loss: 0.7753\n",
      "Epoch: 1/3...  Loss: 0.7530\n",
      "Epoch: 1/3...  Loss: 0.7377\n",
      "Epoch: 1/3...  Loss: 0.7387\n",
      "Epoch: 1/3...  Loss: 0.6942\n",
      "Epoch: 1/3...  Loss: 0.7032\n",
      "Epoch: 1/3...  Loss: 0.6903\n",
      "Epoch: 1/3...  Loss: 0.6722\n",
      "Epoch: 1/3...  Loss: 0.6428\n",
      "Epoch: 1/3...  Loss: 0.6514\n",
      "Epoch: 1/3...  Loss: 0.6491\n",
      "Epoch: 1/3...  Loss: 0.6436\n",
      "Epoch: 1/3...  Loss: 0.6176\n",
      "Epoch: 1/3...  Loss: 0.6002\n",
      "Epoch: 1/3...  Loss: 0.6019\n",
      "Epoch: 2/3...  Loss: 0.3371\n",
      "Epoch: 2/3...  Loss: 0.5637\n",
      "Epoch: 2/3...  Loss: 0.5289\n",
      "Epoch: 2/3...  Loss: 0.5562\n",
      "Epoch: 2/3...  Loss: 0.5677\n",
      "Epoch: 2/3...  Loss: 0.5600\n",
      "Epoch: 2/3...  Loss: 0.5441\n",
      "Epoch: 2/3...  Loss: 0.5482\n",
      "Epoch: 2/3...  Loss: 0.5400\n",
      "Epoch: 2/3...  Loss: 0.5231\n",
      "Epoch: 2/3...  Loss: 0.5101\n",
      "Epoch: 2/3...  Loss: 0.5580\n",
      "Epoch: 2/3...  Loss: 0.4815\n",
      "Epoch: 2/3...  Loss: 0.5265\n",
      "Epoch: 2/3...  Loss: 0.4866\n",
      "Epoch: 2/3...  Loss: 0.4683\n",
      "Epoch: 2/3...  Loss: 0.4912\n",
      "Epoch: 2/3...  Loss: 0.4858\n",
      "Epoch: 2/3...  Loss: 0.4464\n",
      "Epoch: 2/3...  Loss: 0.4901\n",
      "Epoch: 2/3...  Loss: 0.4243\n",
      "Epoch: 2/3...  Loss: 0.4609\n",
      "Epoch: 2/3...  Loss: 0.4849\n",
      "Epoch: 3/3...  Loss: 0.0412\n",
      "Epoch: 3/3...  Loss: 0.4807\n",
      "Epoch: 3/3...  Loss: 0.4545\n",
      "Epoch: 3/3...  Loss: 0.4922\n",
      "Epoch: 3/3...  Loss: 0.4573\n",
      "Epoch: 3/3...  Loss: 0.4186\n",
      "Epoch: 3/3...  Loss: 0.4255\n",
      "Epoch: 3/3...  Loss: 0.4277\n",
      "Epoch: 3/3...  Loss: 0.4451\n",
      "Epoch: 3/3...  Loss: 0.4276\n",
      "Epoch: 3/3...  Loss: 0.4101\n",
      "Epoch: 3/3...  Loss: 0.4215\n",
      "Epoch: 3/3...  Loss: 0.4261\n",
      "Epoch: 3/3...  Loss: 0.4423\n",
      "Epoch: 3/3...  Loss: 0.4035\n",
      "Epoch: 3/3...  Loss: 0.4245\n",
      "Epoch: 3/3...  Loss: 0.3926\n",
      "Epoch: 3/3...  Loss: 0.4144\n",
      "Epoch: 3/3...  Loss: 0.3957\n",
      "Epoch: 3/3...  Loss: 0.3958\n",
      "Epoch: 3/3...  Loss: 0.4093\n",
      "Epoch: 3/3...  Loss: 0.3902\n",
      "Epoch: 3/3...  Loss: 0.4063\n",
      "Epoch: 3/3...  Loss: 0.4181\n"
     ]
    }
   ],
   "source": [
    "epochs = 3\n",
    "print_every = 40\n",
    "steps = 0\n",
    "for e in range(epochs):\n",
    "    running_loss = 0\n",
    "    for images, labels in iter(trainloader):\n",
    "        steps += 1\n",
    "        # Flatten MNIST images into a 784 long vector\n",
    "        images.resize_(images.size()[0], 784)\n",
    "        \n",
    "        # Wrap images and labels in Variables so we can calculate gradients\n",
    "        inputs = Variable(images)\n",
    "        targets = Variable(labels)\n",
    "        optimizer.zero_grad()\n",
    "        \n",
    "        # Forward and backward passes\n",
    "        output = model.forward(inputs)\n",
    "        loss = criterion(output, targets)\n",
    "        loss.backward()\n",
    "        optimizer.step()\n",
    "        \n",
    "        running_loss += loss.data[0]\n",
    "        \n",
    "        if steps % print_every == 0:\n",
    "            print(\"Epoch: {}/{}... \".format(e+1, epochs),\n",
    "                  \"Loss: {:.4f}\".format(running_loss/print_every))\n",
    "            \n",
    "            running_loss = 0"
   ]
  },
  {
   "cell_type": "code",
   "execution_count": 17,
   "metadata": {
    "scrolled": true
   },
   "outputs": [
    {
     "data": {
      "image/png": "[encoded data removed]",
      "text/plain": [
       "<matplotlib.figure.Figure at 0x112d2b5c0>"
      ]
     },
     "metadata": {
      "image/png": {
       "height": 197,
       "width": 370
      }
     },
     "output_type": "display_data"
    }
   ],
   "source": [
    "dataiter = iter(testloader)\n",
    "images, labels = dataiter.next()\n",
    "\n",
    "img = images[0]\n",
    "logits = model.forward(Variable(img.resize_(1, 784)))\n",
    "ps = F.softmax(logits, dim=1)\n",
    "helper.view_classify(img.resize_(1, 28, 28), ps)"
   ]
  },
  {
   "cell_type": "markdown",
   "metadata": {},
   "source": [
    "Now our network isn't so dumb. It can accurately predict the digits in our images. Next up you'll write the code for training a neural network on a more complex dataset."
   ]
  }
 ],
 "metadata": {
  "kernelspec": {
   "display_name": "Python [default]",
   "language": "python",
   "name": "python3"
  },
  "language_info": {
   "codemirror_mode": {
    "name": "ipython",
    "version": 3
   },
   "file_extension": ".py",
   "mimetype": "text/x-python",
   "name": "python",
   "nbconvert_exporter": "python",
   "pygments_lexer": "ipython3",
   "version": "3.6.3"
  }
 },
 "nbformat": 4,
 "nbformat_minor": 2
}
