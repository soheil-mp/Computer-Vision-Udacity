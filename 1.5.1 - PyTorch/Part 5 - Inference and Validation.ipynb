{
 "cells": [
  {
   "cell_type": "markdown",
   "metadata": {},
   "source": [
    "# Inference and Validation\n",
    "\n",
    "Now that you have a trained network, you can use it for making predictions. This is typically called **inference**, a term borrowed from statistics. However, neural networks have a tendency to perform *too well* on the training data and aren't able to generalize to data that hasn't been seen before. This is called **overfitting** and it impairs inference performance. To test for overfitting while training, we measure the performance on data not in the training set called the **validation** dataset. We avoid overfitting through regularization such as dropout while monitoring the validation performance during training. In this notebook, I'll show you how to do this in PyTorch. \n",
    "\n",
    "First off, I'll implement my own feedforward network for the exercise you worked on in part 4 using the Fashion-MNIST dataset. This will serve as a solution for part 4, as well as an example of how to use dropout and validation.\n",
    "\n",
    "As usual, let's start by loading the dataset through torchvision. You'll learn more about torchvision and loading data in a later part."
   ]
  },
  {
   "cell_type": "code",
   "execution_count": 9,
   "metadata": {},
   "outputs": [],
   "source": [
    "# Importing the libraries\n",
    "import numpy as np\n",
    "import matplotlib.pyplot as plt\n",
    "import helper\n",
    "import time\n",
    "\n",
    "# Importing the torch libraries\n",
    "import torch \n",
    "from torch import nn, optim\n",
    "import torch.nn.functional as F\n",
    "from torch.autograd import Variable\n",
    "from torchvision import datasets, transforms\n",
    "\n",
    "%matplotlib inline\n",
    "%config InlineBackend.figure_format = 'retina'"
   ]
  },
  {
   "cell_type": "code",
   "execution_count": 10,
   "metadata": {},
   "outputs": [],
   "source": [
    "# Define transform to normalize the data\n",
    "transform = transforms.Compose(transforms = [transforms.ToTensor(),\n",
    "                                             transforms.Normalize(mean = (0.5, 0.5, 0.5),\n",
    "                                                                  std = (0.5, 0.5, 0.5))])\n",
    "\n",
    "# Downloading and loading the training data\n",
    "trainset = datasets.FashionMNIST(root = './F_MNIST_data/', train = True, transform = transform, download = True)\n",
    "trainloader = torch.utils.data.DataLoader(dataset = trainset, batch_size = 64, shuffle = True)\n",
    "\n",
    "# Downliading and loading the test data\n",
    "testset = datasets.FashionMNIST(root = './F_MNIST_data/', train = False, transform = transform, download = True)\n",
    "testloader = torch.utils.data.DataLoader(dataset = testset, batch_size = 64, shuffle = True)"
   ]
  },
  {
   "cell_type": "markdown",
   "metadata": {},
   "source": [
    "## Building the network\n",
    "\n",
    "As with MNIST, each image in Fashion-MNIST is 28x28 which is a total of 784 pixels, and there are 10 classes. I used `nn.ModuleList` to allow for an arbitrary number of hidden layers. This model has an argument `hidden_layers` that's a list of the hidden layer sizes (as integers). Using `nn.ModuleList` registers each hidden layer module properly so you can use module methods in the model.\n",
    "\n",
    "I also have the `forward` method returning the log-softmax for the output. Since softmax is a probability distibution over the classes, the log-softmax is a log probability which comes with a [lot of benefits](https://en.wikipedia.org/wiki/Log_probability). Using the log probability, computations are often faster and more accurate. To get the class probabilities later, I'll need to take the exponential (`torch.exp`) of the output.\n",
    "\n",
    "We can include dropout in our network with [`nn.Dropout`](http://pytorch.org/docs/master/nn.html#dropout). This works similar to other modules such as `nn.Linear`. It also takes the dropout probability as an input which we can pass as an input to the network."
   ]
  },
  {
   "cell_type": "code",
   "execution_count": 18,
   "metadata": {},
   "outputs": [],
   "source": [
    "class Network(nn.Module):\n",
    "    def __init__(self, input_size, output_size, hidden_layers, drop_p = 0.5):\n",
    "        ''' Builds a feedforward network with arbitrary hidden layers.\n",
    "        \n",
    "            Arguments\n",
    "            ---------\n",
    "            input_size: integer, size of the input\n",
    "            output_size: integer, size of the output layer\n",
    "            hidden_layers: list of integers, the sizes of the hidden layers\n",
    "            drop_p: float between 0 and 1, dropout probability\n",
    "        '''\n",
    "        super().__init__()\n",
    "        \n",
    "        # Adding the first layer (input to hidden layer)\n",
    "        self.hidden_layers = nn.ModuleList(modules = [nn.Linear(in_features = input_size, \n",
    "                                                                out_features = hidden_layers[0])])\n",
    "        \n",
    "        # Adding a variable number of more hidden layers\n",
    "        layer_sizes = zip(hidden_layers[:-1], hidden_layers[1:])\n",
    "        self.hidden_layers.extend([nn.Linear(in_features = h1, out_features = h2) for h1, h2 in layer_sizes])\n",
    "        \n",
    "        # Adding the output layer\n",
    "        self.output = nn.Linear(in_features = hidden_layers[-1], out_features = output_size)\n",
    "        \n",
    "        # Adding the dropout\n",
    "        self.dropout = nn.Dropout(p=drop_p)\n",
    "        \n",
    "        \n",
    "    def forward(self, x):\n",
    "        ''' Forward pass through the network, returns the output logits '''\n",
    "        \n",
    "        # Adding activation functiona and dropout to each hidden layer\n",
    "        for each in self.hidden_layers:\n",
    "            x = F.relu(each(x))\n",
    "            x = self.dropout(x)\n",
    "            \n",
    "        # Output logits\n",
    "        x = self.output(x)\n",
    "        \n",
    "        return F.log_softmax(x, dim=1)"
   ]
  },
  {
   "cell_type": "markdown",
   "metadata": {},
   "source": [
    "# Train the network\n",
    "\n",
    "Since the model's forward method returns the log-softmax, I used the [negative log loss](http://pytorch.org/docs/master/nn.html#nllloss) as my criterion, `nn.NLLLoss()`. I also chose to use the [Adam optimizer](http://pytorch.org/docs/master/optim.html#torch.optim.Adam). This is a variant of stochastic gradient descent which includes momentum and in general trains faster than your basic SGD.\n",
    "\n",
    "I've also included a block to measure the validation loss and accuracy. Since I'm using dropout in the network, I need to turn it off during inference. Otherwise, the network will appear to perform poorly because many of the connections are turned off. PyTorch allows you to set a model in \"training\" or \"evaluation\" modes with `model.train()` and `model.eval()`, respectively. In training mode, dropout is turned on, while in evaluation mode, dropout is turned off. This effects other modules as well that should be on during training but off during inference.\n",
    "\n",
    "The validation code consists of a forward pass through the validation set (also split into batches). With the log-softmax output, I calculate the loss on the validation set, as well as the prediction accuracy."
   ]
  },
  {
   "cell_type": "code",
   "execution_count": 22,
   "metadata": {},
   "outputs": [],
   "source": [
    "# Create the network, define the criterion and optimizer\n",
    "model = Network(784, 10, [500], drop_p=0.5)\n",
    "criterion = nn.NLLLoss()\n",
    "optimizer = optim.Adam(model.parameters(), lr=0.001)"
   ]
  },
  {
   "cell_type": "code",
   "execution_count": 33,
   "metadata": {},
   "outputs": [
    {
     "name": "stderr",
     "output_type": "stream",
     "text": [
      "/Users/soheil/anaconda3/lib/python3.6/site-packages/ipykernel/__main__.py:53: UserWarning: volatile was removed and now has no effect. Use `with torch.no_grad():` instead.\n",
      "/Users/soheil/anaconda3/lib/python3.6/site-packages/ipykernel/__main__.py:54: UserWarning: volatile was removed and now has no effect. Use `with torch.no_grad():` instead.\n"
     ]
    },
    {
     "name": "stdout",
     "output_type": "stream",
     "text": [
      "Epoch: 1/3, Training Loss: 0.368, Test Loss: 0.403, Test Accuracy: 0.853\n",
      "Epoch: 1/3, Training Loss: 0.363, Test Loss: 0.388, Test Accuracy: 0.856\n",
      "Epoch: 1/3, Training Loss: 0.332, Test Loss: 0.378, Test Accuracy: 0.864\n",
      "Epoch: 1/3, Training Loss: 0.361, Test Loss: 0.383, Test Accuracy: 0.860\n",
      "Epoch: 1/3, Training Loss: 0.343, Test Loss: 0.378, Test Accuracy: 0.866\n",
      "Epoch: 1/3, Training Loss: 0.349, Test Loss: 0.394, Test Accuracy: 0.858\n",
      "Epoch: 1/3, Training Loss: 0.323, Test Loss: 0.433, Test Accuracy: 0.842\n",
      "Epoch: 1/3, Training Loss: 0.358, Test Loss: 0.377, Test Accuracy: 0.861\n",
      "Epoch: 1/3, Training Loss: 0.346, Test Loss: 0.367, Test Accuracy: 0.868\n",
      "Epoch: 2/3, Training Loss: 0.335, Test Loss: 0.392, Test Accuracy: 0.860\n",
      "Epoch: 2/3, Training Loss: 0.321, Test Loss: 0.399, Test Accuracy: 0.853\n",
      "Epoch: 2/3, Training Loss: 0.301, Test Loss: 0.382, Test Accuracy: 0.861\n",
      "Epoch: 2/3, Training Loss: 0.323, Test Loss: 0.371, Test Accuracy: 0.866\n",
      "Epoch: 2/3, Training Loss: 0.318, Test Loss: 0.367, Test Accuracy: 0.868\n",
      "Epoch: 2/3, Training Loss: 0.314, Test Loss: 0.374, Test Accuracy: 0.867\n",
      "Epoch: 2/3, Training Loss: 0.318, Test Loss: 0.371, Test Accuracy: 0.865\n",
      "Epoch: 2/3, Training Loss: 0.331, Test Loss: 0.362, Test Accuracy: 0.866\n",
      "Epoch: 2/3, Training Loss: 0.318, Test Loss: 0.353, Test Accuracy: 0.872\n",
      "Epoch: 3/3, Training Loss: 0.288, Test Loss: 0.374, Test Accuracy: 0.867\n",
      "Epoch: 3/3, Training Loss: 0.298, Test Loss: 0.376, Test Accuracy: 0.866\n",
      "Epoch: 3/3, Training Loss: 0.293, Test Loss: 0.378, Test Accuracy: 0.866\n",
      "Epoch: 3/3, Training Loss: 0.288, Test Loss: 0.371, Test Accuracy: 0.869\n",
      "Epoch: 3/3, Training Loss: 0.303, Test Loss: 0.372, Test Accuracy: 0.864\n",
      "Epoch: 3/3, Training Loss: 0.288, Test Loss: 0.351, Test Accuracy: 0.872\n",
      "Epoch: 3/3, Training Loss: 0.290, Test Loss: 0.357, Test Accuracy: 0.872\n",
      "Epoch: 3/3, Training Loss: 0.307, Test Loss: 0.361, Test Accuracy: 0.873\n",
      "Epoch: 3/3, Training Loss: 0.294, Test Loss: 0.354, Test Accuracy: 0.874\n",
      "Epoch: 3/3, Training Loss: 0.285, Test Loss: 0.350, Test Accuracy: 0.873\n"
     ]
    }
   ],
   "source": [
    "\"\"\"My version\"\"\"\n",
    "\n",
    "# Some initialization\n",
    "epochs = 3\n",
    "print_every = 100\n",
    "steps = 0\n",
    "running_loss = 0\n",
    "\n",
    "# Iteratingh through epochs \n",
    "for e in range(epochs):\n",
    "    \n",
    "    # Iterating through images and its labels\n",
    "    for images, labels in iter(trainloader):\n",
    "        \n",
    "        steps += 1\n",
    "        \n",
    "        # Flattening the image\n",
    "        #print(\"Image size before resizing: \", images.size())\n",
    "        images.resize_(images.size()[0], 28*28)\n",
    "        #print(\"Image size after resizing: \", images.size())\n",
    "        \n",
    "        # Wrap images and labels into a Variable\n",
    "        inputs = Variable(images)\n",
    "        targets = Variable(labels)\n",
    "        \n",
    "        # Restarting the gradients to zero\n",
    "        optimizer.zero_grad()\n",
    "        \n",
    "        # Running the feedforward and backward propagation\n",
    "        output = model.forward(inputs)\n",
    "        loss = criterion(output, targets)\n",
    "        loss.backward()\n",
    "        optimizer.step()\n",
    "        \n",
    "        # Accumalating the loss\n",
    "        running_loss += loss\n",
    "        \n",
    "        # Getting the testing accuracy and loss\n",
    "        if steps % print_every == 0:\n",
    "            \n",
    "            # Turning the dropout off but activating the evaluation mode\n",
    "            model.eval()\n",
    "            \n",
    "            # Initialization\n",
    "            accuracy = 0\n",
    "            test_loss = 0\n",
    "            \n",
    "            # Iterating through the test images and its labels\n",
    "            for index, (images_test, labels_test) in enumerate(testloader):\n",
    "                \n",
    "                # Resizing the images\n",
    "                images_test.resize_(images_test.size()[0], 28*28)\n",
    "                \n",
    "                # Wrapping the images and labels into a variable\n",
    "                inputs_test = Variable(images_test, volatile = True)\n",
    "                targets_test = Variable(labels_test, volatile = True)\n",
    "                \n",
    "                # Forward pass\n",
    "                output_test = model.forward(inputs_test)\n",
    "                test_loss += criterion(output_test, targets_test)\n",
    "                \n",
    "                # Calculating the accuracy\n",
    "                ps = torch.exp(output_test).data\n",
    "                equality = (labels_test.data == ps.max(1)[1]) # choosing with highets probability\n",
    "                accuracy += equality.type_as(torch.FloatTensor()).mean()\n",
    "                \n",
    "            print(\"Epoch: {}/{}, Training Loss: {:.3f}, Test Loss: {:.3f}, Test Accuracy: {:.3f}\".format \\\n",
    "                  (e + 1, epochs, running_loss / print_every, test_loss / len(testloader), accuracy / len(testloader)))\n",
    "            \n",
    "            running_loss = 0\n",
    "            \n",
    "            # Make the dropout on by activating the train mode\n",
    "            model.eval()"
   ]
  },
  {
   "cell_type": "code",
   "execution_count": 5,
   "metadata": {},
   "outputs": [
    {
     "name": "stderr",
     "output_type": "stream",
     "text": [
      "/Users/soheil/anaconda3/lib/python3.6/site-packages/ipykernel/__main__.py:23: UserWarning: invalid index of a 0-dim tensor. This will be an error in PyTorch 0.5. Use tensor.item() to convert a 0-dim tensor to a Python number\n",
      "/Users/soheil/anaconda3/lib/python3.6/site-packages/ipykernel/__main__.py:35: UserWarning: volatile was removed and now has no effect. Use `with torch.no_grad():` instead.\n",
      "/Users/soheil/anaconda3/lib/python3.6/site-packages/ipykernel/__main__.py:36: UserWarning: volatile was removed and now has no effect. Use `with torch.no_grad():` instead.\n",
      "/Users/soheil/anaconda3/lib/python3.6/site-packages/ipykernel/__main__.py:39: UserWarning: invalid index of a 0-dim tensor. This will be an error in PyTorch 0.5. Use tensor.item() to convert a 0-dim tensor to a Python number\n"
     ]
    },
    {
     "name": "stdout",
     "output_type": "stream",
     "text": [
      "Epoch: 1/2..  Training Loss: 1.021..  Test Loss: 0.687..  Test Accuracy: 0.751\n",
      "Epoch: 1/2..  Training Loss: 0.723..  Test Loss: 0.613..  Test Accuracy: 0.780\n",
      "Epoch: 1/2..  Training Loss: 0.673..  Test Loss: 0.586..  Test Accuracy: 0.784\n",
      "Epoch: 1/2..  Training Loss: 0.647..  Test Loss: 0.564..  Test Accuracy: 0.789\n",
      "Epoch: 1/2..  Training Loss: 0.574..  Test Loss: 0.531..  Test Accuracy: 0.810\n",
      "Epoch: 1/2..  Training Loss: 0.559..  Test Loss: 0.519..  Test Accuracy: 0.808\n",
      "Epoch: 1/2..  Training Loss: 0.558..  Test Loss: 0.524..  Test Accuracy: 0.804\n",
      "Epoch: 1/2..  Training Loss: 0.561..  Test Loss: 0.497..  Test Accuracy: 0.819\n",
      "Epoch: 1/2..  Training Loss: 0.517..  Test Loss: 0.513..  Test Accuracy: 0.808\n",
      "Epoch: 1/2..  Training Loss: 0.540..  Test Loss: 0.487..  Test Accuracy: 0.820\n",
      "Epoch: 1/2..  Training Loss: 0.532..  Test Loss: 0.488..  Test Accuracy: 0.824\n",
      "Epoch: 1/2..  Training Loss: 0.532..  Test Loss: 0.492..  Test Accuracy: 0.822\n",
      "Epoch: 1/2..  Training Loss: 0.543..  Test Loss: 0.494..  Test Accuracy: 0.819\n",
      "Epoch: 1/2..  Training Loss: 0.483..  Test Loss: 0.482..  Test Accuracy: 0.823\n",
      "Epoch: 1/2..  Training Loss: 0.503..  Test Loss: 0.480..  Test Accuracy: 0.827\n",
      "Epoch: 1/2..  Training Loss: 0.501..  Test Loss: 0.473..  Test Accuracy: 0.824\n",
      "Epoch: 1/2..  Training Loss: 0.479..  Test Loss: 0.470..  Test Accuracy: 0.826\n",
      "Epoch: 1/2..  Training Loss: 0.460..  Test Loss: 0.500..  Test Accuracy: 0.815\n",
      "Epoch: 1/2..  Training Loss: 0.479..  Test Loss: 0.452..  Test Accuracy: 0.839\n",
      "Epoch: 1/2..  Training Loss: 0.499..  Test Loss: 0.465..  Test Accuracy: 0.828\n",
      "Epoch: 1/2..  Training Loss: 0.500..  Test Loss: 0.460..  Test Accuracy: 0.828\n",
      "Epoch: 1/2..  Training Loss: 0.475..  Test Loss: 0.456..  Test Accuracy: 0.833\n",
      "Epoch: 1/2..  Training Loss: 0.478..  Test Loss: 0.445..  Test Accuracy: 0.835\n",
      "Epoch: 2/2..  Training Loss: 0.460..  Test Loss: 0.455..  Test Accuracy: 0.835\n",
      "Epoch: 2/2..  Training Loss: 0.480..  Test Loss: 0.440..  Test Accuracy: 0.838\n",
      "Epoch: 2/2..  Training Loss: 0.462..  Test Loss: 0.447..  Test Accuracy: 0.836\n",
      "Epoch: 2/2..  Training Loss: 0.484..  Test Loss: 0.439..  Test Accuracy: 0.840\n",
      "Epoch: 2/2..  Training Loss: 0.488..  Test Loss: 0.444..  Test Accuracy: 0.838\n",
      "Epoch: 2/2..  Training Loss: 0.418..  Test Loss: 0.429..  Test Accuracy: 0.844\n",
      "Epoch: 2/2..  Training Loss: 0.447..  Test Loss: 0.452..  Test Accuracy: 0.836\n",
      "Epoch: 2/2..  Training Loss: 0.450..  Test Loss: 0.443..  Test Accuracy: 0.840\n",
      "Epoch: 2/2..  Training Loss: 0.470..  Test Loss: 0.427..  Test Accuracy: 0.848\n",
      "Epoch: 2/2..  Training Loss: 0.425..  Test Loss: 0.427..  Test Accuracy: 0.847\n",
      "Epoch: 2/2..  Training Loss: 0.467..  Test Loss: 0.420..  Test Accuracy: 0.853\n",
      "Epoch: 2/2..  Training Loss: 0.497..  Test Loss: 0.418..  Test Accuracy: 0.846\n",
      "Epoch: 2/2..  Training Loss: 0.447..  Test Loss: 0.419..  Test Accuracy: 0.847\n",
      "Epoch: 2/2..  Training Loss: 0.438..  Test Loss: 0.421..  Test Accuracy: 0.847\n",
      "Epoch: 2/2..  Training Loss: 0.445..  Test Loss: 0.432..  Test Accuracy: 0.840\n",
      "Epoch: 2/2..  Training Loss: 0.469..  Test Loss: 0.421..  Test Accuracy: 0.848\n",
      "Epoch: 2/2..  Training Loss: 0.442..  Test Loss: 0.416..  Test Accuracy: 0.847\n",
      "Epoch: 2/2..  Training Loss: 0.450..  Test Loss: 0.427..  Test Accuracy: 0.845\n",
      "Epoch: 2/2..  Training Loss: 0.432..  Test Loss: 0.430..  Test Accuracy: 0.846\n",
      "Epoch: 2/2..  Training Loss: 0.428..  Test Loss: 0.427..  Test Accuracy: 0.841\n",
      "Epoch: 2/2..  Training Loss: 0.448..  Test Loss: 0.417..  Test Accuracy: 0.846\n",
      "Epoch: 2/2..  Training Loss: 0.408..  Test Loss: 0.412..  Test Accuracy: 0.844\n",
      "Epoch: 2/2..  Training Loss: 0.419..  Test Loss: 0.408..  Test Accuracy: 0.851\n"
     ]
    }
   ],
   "source": [
    "epochs = 2\n",
    "steps = 0\n",
    "running_loss = 0\n",
    "print_every = 40\n",
    "for e in range(epochs):\n",
    "    # Model in training mode, dropout is on\n",
    "    model.train()\n",
    "    for images, labels in iter(trainloader):\n",
    "        steps += 1\n",
    "        # Flatten images into a 784 long vector\n",
    "        images.resize_(images.size()[0], 784)\n",
    "        \n",
    "        # Wrap images and labels in Variables so we can calculate gradients\n",
    "        inputs = Variable(images)\n",
    "        targets = Variable(labels)\n",
    "        optimizer.zero_grad()\n",
    "        \n",
    "        output = model.forward(inputs)\n",
    "        loss = criterion(output, targets)\n",
    "        loss.backward()\n",
    "        optimizer.step()\n",
    "        \n",
    "        running_loss += loss.data[0]\n",
    "        \n",
    "        if steps % print_every == 0:\n",
    "            # Model in inference mode, dropout is off\n",
    "            model.eval()\n",
    "            \n",
    "            accuracy = 0\n",
    "            test_loss = 0\n",
    "            for ii, (images, labels) in enumerate(testloader):\n",
    "                \n",
    "                images = images.resize_(images.size()[0], 784)\n",
    "                # Set volatile to True so we don't save the history\n",
    "                inputs = Variable(images, volatile=True)\n",
    "                labels = Variable(labels, volatile=True)\n",
    "\n",
    "                output = model.forward(inputs)\n",
    "                test_loss += criterion(output, labels).data[0]\n",
    "                \n",
    "                ## Calculating the accuracy \n",
    "                # Model's output is log-softmax, take exponential to get the probabilities\n",
    "                ps = torch.exp(output).data\n",
    "                # Class with highest probability is our predicted class, compare with true label\n",
    "                equality = (labels.data == ps.max(1)[1])\n",
    "                # Accuracy is number of correct predictions divided by all predictions, just take the mean\n",
    "                accuracy += equality.type_as(torch.FloatTensor()).mean()\n",
    "            \n",
    "            print(\"Epoch: {}/{}.. \".format(e+1, epochs),\n",
    "                  \"Training Loss: {:.3f}.. \".format(running_loss/print_every),\n",
    "                  \"Test Loss: {:.3f}.. \".format(test_loss/len(testloader)),\n",
    "                  \"Test Accuracy: {:.3f}\".format(accuracy/len(testloader)))\n",
    "            \n",
    "            running_loss = 0\n",
    "            \n",
    "            # Make sure dropout is on for training\n",
    "            model.train()"
   ]
  },
  {
   "cell_type": "markdown",
   "metadata": {},
   "source": [
    "## Inference\n",
    "\n",
    "Now that the model is trained, we can use it for inference. We've done this before, but now we need to remember to set the model in inference mode with `model.eval()`."
   ]
  },
  {
   "cell_type": "code",
   "execution_count": 8,
   "metadata": {},
   "outputs": [
    {
     "name": "stderr",
     "output_type": "stream",
     "text": [
      "/Users/soheil/anaconda3/lib/python3.6/site-packages/ipykernel/__main__.py:12: UserWarning: volatile was removed and now has no effect. Use `with torch.no_grad():` instead.\n"
     ]
    },
    {
     "data": {
      "image/png": "[encoded data removed]",
      "text/plain": [
       "<matplotlib.figure.Figure at 0x1207c06d8>"
      ]
     },
     "metadata": {
      "image/png": {
       "height": 197,
       "width": 370
      }
     },
     "output_type": "display_data"
    }
   ],
   "source": [
    "# Test out your network!\n",
    "\n",
    "model.eval()\n",
    "\n",
    "dataiter = iter(testloader)\n",
    "images, labels = dataiter.next()\n",
    "img = images[0]\n",
    "# Convert 2D image to 1D vector\n",
    "img = img.resize_(1, 784)\n",
    "\n",
    "# Calculate the class probabilities (softmax) for img\n",
    "output = model.forward(Variable(img, volatile=True))\n",
    "ps = torch.exp(output)\n",
    "\n",
    "# Plot the image and probabilities\n",
    "helper.view_classify(img.resize_(1, 28, 28), ps)"
   ]
  },
  {
   "cell_type": "markdown",
   "metadata": {},
   "source": [
    "## Next Up!\n",
    "\n",
    "In the next part, I'll show you how to save your trained models. In general, you won't want to train a model everytime you need it. Instead, you'll train once, save it, then load the model when you want to train more or use if for inference."
   ]
  }
 ],
 "metadata": {
  "kernelspec": {
   "display_name": "Python [default]",
   "language": "python",
   "name": "python3"
  },
  "language_info": {
   "codemirror_mode": {
    "name": "ipython",
    "version": 3
   },
   "file_extension": ".py",
   "mimetype": "text/x-python",
   "name": "python",
   "nbconvert_exporter": "python",
   "pygments_lexer": "ipython3",
   "version": "3.6.3"
  }
 },
 "nbformat": 4,
 "nbformat_minor": 2
}
